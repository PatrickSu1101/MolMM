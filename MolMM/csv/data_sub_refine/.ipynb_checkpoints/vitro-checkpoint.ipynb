{
 "cells": [
  {
   "cell_type": "code",
   "execution_count": 1,
   "id": "97fa950a-c9d0-41e9-9c9a-468a77f942e2",
   "metadata": {},
   "outputs": [],
   "source": [
    "import matplotlib.pyplot as plt\n",
    "import matplotlib.patches as mpatches\n",
    "import seaborn as sns\n",
    "\n",
    "from rdkit import Chem\n",
    "from rdkit.Chem import Draw\n",
    "from rdkit.Chem.Draw import IPythonConsole\n",
    "from rdkit.Chem.MolStandardize import rdMolStandardize\n",
    "from rdkit import RDLogger\n",
    "#IPythonConsole.ipython_useSVG = True\n",
    "import numpy as np\n",
    "import pandas as pd\n",
    "from tqdm import tqdm\n",
    "from openbabel import pybel\n",
    "RDLogger.DisableLog('rdApp.*')\n",
    "from collections import defaultdict"
   ]
  },
  {
   "cell_type": "code",
   "execution_count": 2,
   "id": "8fa94652-f64b-42c5-954d-f0ee3a28c40b",
   "metadata": {},
   "outputs": [],
   "source": [
    "\n",
    "def clean_and_standardize(smiles,ph=7.4,iso=False):\n",
    "    try:\n",
    "        # Convert SMILES to RDKit molecule\n",
    "        mol = Chem.MolFromSmiles(smiles)\n",
    "        \n",
    "        # Skip invalid molecules\n",
    "        if mol is None:\n",
    "            return None,None\n",
    "\n",
    "        # Canonicalize the SMILES\n",
    "        # canonical_smiles = Chem.MolToSmiles(mol, isomericSmiles=True, canonical=True)\n",
    "\n",
    "        # Remove salts and other fragments / Keep only the largest fragment\n",
    "        fragments = Chem.GetMolFrags(mol, asMols=True)\n",
    "        largest_fragment = max(fragments, default=None, key=lambda m: m.GetNumAtoms())\n",
    "        if largest_fragment is None:\n",
    "            return None,None\n",
    "        \n",
    "        u = rdMolStandardize.Uncharger()\n",
    "        uncharge_mol = u.uncharge(largest_fragment)\n",
    "        uncharge_smiles = Chem.MolToSmiles(uncharge_mol, isomericSmiles=iso, canonical=True)\n",
    "        \n",
    "        ob_mol = pybel.readstring(\"smi\", Chem.MolToSmiles(largest_fragment, isomericSmiles=iso, canonical=True))\n",
    "        \n",
    "        ob_mol.OBMol.AddHydrogens(False, True, ph)\n",
    "\n",
    "        # Convert back to SMILES\n",
    "        adjusted_smiles = ob_mol.write(\"smi\").strip()\n",
    "\n",
    "        return adjusted_smiles, uncharge_smiles\n",
    "    \n",
    "    except Exception as e:\n",
    "        print(f\"Error processing SMILES {smiles}: {e}\")\n",
    "        return None,None"
   ]
  },
  {
   "cell_type": "code",
   "execution_count": 3,
   "id": "d806050d-3cc0-4d1a-b4e8-c7fad8d2ea70",
   "metadata": {
    "scrolled": true,
    "tags": []
   },
   "outputs": [],
   "source": [
    "def sort_dict(x):\n",
    "    return {k: v for k, v in sorted(x.items(), key=lambda item: item[1], reverse=True)}\n",
    "\n",
    "def count_place(inh, parameter):\n",
    "    count = {}\n",
    "    for s in inh[parameter].unique():\n",
    "        count[s] = sum(inh[parameter]==s)\n",
    "    count = sort_dict(count)\n",
    "    return count"
   ]
  },
  {
   "cell_type": "code",
   "execution_count": 4,
   "id": "13d96436-10a2-4b3b-8adf-e0b9baec7b50",
   "metadata": {},
   "outputs": [],
   "source": [
    "df = pd.read_csv('./source/substrates_chem.csv',encoding='utf-8',sep='\\t')"
   ]
  },
  {
   "cell_type": "code",
   "execution_count": 5,
   "id": "13b4167a-63e0-42c7-8807-533ee738d88c",
   "metadata": {},
   "outputs": [
    {
     "data": {
      "text/plain": [
       "Index(['CMPD_CHEMBLID', 'MOLREGNO', 'PARENT_CMPD_CHEMBLID', 'PARENT_MOLREGNO',\n",
       "       'MOL_PREF_NAME', 'COMPOUND_KEY', 'MOLWEIGHT', 'ALOGP', 'PSA',\n",
       "       'NUM_RO5_VIOLATIONS', 'CANONICAL_SMILES', 'ACTIVITY_ID',\n",
       "       'STANDARD_TYPE', 'RELATION', 'STANDARD_VALUE', 'STANDARD_UNITS',\n",
       "       'PCHEMBL_VALUE', 'PUBLISHED_TYPE', 'PUBLISHED_RELATION',\n",
       "       'PUBLISHED_VALUE', 'PUBLISHED_UNITS', 'ACTIVITY_COMMENT',\n",
       "       'DATA_VALIDITY_COMMENT', 'POTENTIAL_DUPLICATE', 'BAO_ENDPOINT',\n",
       "       'UO_UNITS', 'QUDT_UNITS', 'ASSAY_ID', 'ASSAY_CHEMBLID', 'ASSAY_TYPE',\n",
       "       'DESCRIPTION', 'ASSAY_SRC_ID', 'ASSAY_SRC_DESCRIPTION',\n",
       "       'ASSAY_ORGANISM', 'ASSAY_STRAIN', 'ASSAY_TAX_ID', 'CURATED_BY',\n",
       "       'BAO_FORMAT', 'TID', 'TARGET_CHEMBLID', 'TARGET_TYPE',\n",
       "       'PROTEIN_ACCESSION', 'PREF_NAME', 'ORGANISM', 'CONFIDENCE_SCORE',\n",
       "       'TARGET_MAPPING', 'APD_NAME', 'APD_CONFIDENCE', 'DOC_ID',\n",
       "       'DOC_CHEMBLID', 'PUBMED_ID', 'JOURNAL', 'YEAR', 'VOLUME', 'ISSUE',\n",
       "       'FIRST_PAGE', 'CELL_ID', 'CELL_CHEMBL_ID', 'CELL_NAME',\n",
       "       'ACTIVITY_PARAMS', 'ACTIVITY_PROPS'],\n",
       "      dtype='object')"
      ]
     },
     "execution_count": 5,
     "metadata": {},
     "output_type": "execute_result"
    }
   ],
   "source": [
    "df.columns"
   ]
  },
  {
   "cell_type": "code",
   "execution_count": 6,
   "id": "260068ce-5eae-4f30-bf78-634f87eac323",
   "metadata": {},
   "outputs": [],
   "source": [
    "df = df[['MOL_PREF_NAME','CANONICAL_SMILES','RELATION','STANDARD_VALUE','DESCRIPTION','PUBMED_ID']].dropna(subset=['CANONICAL_SMILES','RELATION','STANDARD_VALUE','DESCRIPTION','PUBMED_ID'])"
   ]
  },
  {
   "cell_type": "code",
   "execution_count": 7,
   "id": "23f2931f-82c9-45c0-b6ed-a1e0e3b0bdfd",
   "metadata": {},
   "outputs": [],
   "source": [
    "df['clean_smiles_pH'] = [ clean_and_standardize(s)[1] for s in df['CANONICAL_SMILES'] ]"
   ]
  },
  {
   "cell_type": "code",
   "execution_count": 8,
   "id": "4ffbe78b-198d-4aa8-8d83-c28ef3a33513",
   "metadata": {},
   "outputs": [],
   "source": [
    "source=df"
   ]
  },
  {
   "cell_type": "code",
   "execution_count": 9,
   "id": "dfa812a4-0db4-4aa5-b97d-d1dc33768c73",
   "metadata": {},
   "outputs": [
    {
     "data": {
      "text/plain": [
       "(2520, 1236)"
      ]
     },
     "execution_count": 9,
     "metadata": {},
     "output_type": "execute_result"
    }
   ],
   "source": [
    "len(df),len(df.drop_duplicates(subset=['clean_smiles_pH']))"
   ]
  },
  {
   "cell_type": "code",
   "execution_count": 10,
   "id": "00e88cab-3a39-4578-a7d2-e5d809cbcf9e",
   "metadata": {},
   "outputs": [
    {
     "name": "stdout",
     "output_type": "stream",
     "text": [
      "1204\n"
     ]
    }
   ],
   "source": [
    "bool0 = np.array([\n",
    "    'presence' not in exp and \n",
    "    'treat' not in exp and\n",
    "    '5.5' not in exp and\n",
    "    'inh' not in exp\n",
    "    for exp in df['DESCRIPTION']\n",
    "])\n",
    "\n",
    "bool1 = np.array([\n",
    "    ('Efflux' in exp or 'efflux' in exp) and \n",
    "    'Influx' not in exp \n",
    "    for exp in df['DESCRIPTION']\n",
    "])\n",
    "\n",
    "bool2 = np.array([\n",
    "    'Caco2' in exp and \n",
    "    'MDCK' not in exp and\n",
    "    'cell' in exp and \n",
    "    'human' in exp\n",
    "    for exp in df['DESCRIPTION']\n",
    "])\n",
    "\n",
    "df = df[bool0 & bool1 & bool2]\n",
    "print(len(df))"
   ]
  },
  {
   "cell_type": "code",
   "execution_count": 11,
   "id": "84e4d0e5-2b1c-4305-b56b-01e0d378f5b1",
   "metadata": {
    "scrolled": true,
    "tags": []
   },
   "outputs": [
    {
     "data": {
      "text/plain": [
       "{'Efflux ratio of permeability from apical to basolateral over basolateral to apical side in human Caco2 cells': 138,\n",
       " 'Efflux ratio of permeability in human Caco2 cells': 133,\n",
       " 'Efflux ratio of permeability from basolateral to apical side over apical to basolateral side in human Caco2 cells': 94,\n",
       " 'Efflux ratio of permeability from apical to basolateral side over basolateral to apical side of human Caco2 cells at 10 uM up to 120 mins by HPLC-MC analysis': 63,\n",
       " 'Efflux ratio of permeability from apical to basolateral side over basolateral to apical side in human Caco2 cells': 56,\n",
       " 'Efflux ratio of permeability from apical to basolateral side over basolateral to apical side in human Caco2 cells at 100 uM up to 90 mins': 46,\n",
       " 'Efflux ratio of apparent permeability from basal to apical to apical to basal side of human Caco2 cells at 10 uM after 60 mins by LC/MS analysis': 40,\n",
       " 'Efflux ratio of apparent permeability from basolateral to apical side over apical to basolateral side in human Caco2 cells at 10 uM after 90 mins by LC-MS/MS analysis': 36,\n",
       " 'Efflux ratio of permeability across basolateral to apical side over apical to basolateral side in human Caco2 cells expressing p-gp': 32,\n",
       " 'Efflux ratio of apparent permeability from basolateral to apical side over apical to basolateral side in human Caco2 cells': 32,\n",
       " 'Efflux ratio of permeability from basolateral to apical over apical to basolateral side in human Caco2 cells': 31,\n",
       " 'Efflux ratio of apparent permeability from basal to apical side to apical to basal side of human Caco2 cells': 24,\n",
       " 'Efflux ratio of permeability from basolateral to apical side to apical to basolateral side in human Caco2 cells': 23,\n",
       " 'Efflux ratio of permeability from basolateral to apical side to apical to basolateral side in human Caco2 cells at 10 uM by LC/MS/MS analysis': 22,\n",
       " 'Efflux ratio of apparent permeability from basolateral to apical side over apical to basolateral side in human Caco2 cells at 100 uM after 120 mins by UV-Vis spectrophotometry': 21,\n",
       " 'Efflux ratio of apparent permeability from apical to basolateral to basolateral to apical side of human Caco2 cells': 20,\n",
       " 'Efflux ratio of permeability in human Caco2 cells after 2 hrs': 20,\n",
       " 'Efflux ratio of permeability from basolateral to apical side over apical to basolateral side in human Caco2 cells at 100 uM after 30 mins by UV spectroscopy': 20,\n",
       " 'Efflux ratio of apparent permeability from basolateral to apical side to apical to basolateral side of human Caco2 cells': 19,\n",
       " 'Efflux ratio of apparent permeability in human Caco2 cells': 19,\n",
       " 'Efflux ratio of apparent permeability from basolateral to apical to apical to basolateral side of human Caco2 cells after 120 mins': 16,\n",
       " 'Efflux ratio in human Caco2 cells after 2 hrs by LC-MS/MS analysis': 16,\n",
       " 'Efflux ratio of permeability from apical to basolateral over basolateral to apical side in human Caco2 cells after 21 to 28 days by LC-MS/MS analysis': 14,\n",
       " 'Efflux ratio of permeability from basolateral to apical side over apical to basolateral side in human Caco2 cells at 10 uM after 60 mins by LC-MS analysis': 14,\n",
       " 'Efflux ratio of permeability across basolateral to apical over apical to basolateral side in human Caco2 cells': 14,\n",
       " 'Efflux ratio of permeability from apical to basolateral side over basolateral to apical side of human Caco2 cells': 12,\n",
       " 'Efflux ratio of apparent permeability across human Caco2 cells at 10 uM after 2 hrs': 10,\n",
       " 'Efflux ratio of permeability from apical to basolateral side over basolateral to apical side in human Caco2 cells at pH 7.4 after 2 hrs by LC/MS/MS analysis': 10,\n",
       " 'Efflux ratio of permeability of the compound from basolateral to apical side over apical to basolateral side of human Caco2 cells': 10,\n",
       " 'Efflux ratio of apparent permeability in human Caco2 cells incubated for 95 mins by LC-MS/MS analysis': 10,\n",
       " 'Efflux ratio in human Caco2 cells incubated for 1 hr at 37 degC by HPLC-MS/MS method': 9,\n",
       " 'Efflux ratio of apparent permeability from basolateral to apical side over apical to basolateral side in human Caco2 cells at 1 to 20 uM': 8,\n",
       " 'Efflux ratio of apparent permeability from basolateral to apical side over apical to basolateral side in human Caco2 cells after 2 hrs': 8,\n",
       " 'Efflux ratio of permeability from apical to basolateral side over basolateral to apical side in human Caco2 cells at 10 uM after 60 to 120 mins by HPLC analysis': 8,\n",
       " 'Efflux ratio of apparent permeability across apical to basolateral side over basolateral to apical side in human Caco2 cells at 10 uM for 2 hrs by LC-MS/MS analysis': 6,\n",
       " 'Efflux ratio of permeability from apical to basolateral side over basolateral to apical side in human Caco2 cells at 4 mM up to 120 mins by HPLC analysis': 6,\n",
       " 'Efflux ratio of apparent permeability of the compound from basal to apical to apical to basal side of human Caco2 cells at 10 uM at pH 7.4 after 60 mins': 6,\n",
       " 'Efflux ratio of permeability across basolateral to apical side over apical to basolateral side in human Caco2 cells expressing p-glycoprotein': 6,\n",
       " 'Efflux ratio of permeability across basolateral to apical side in human Caco2 cells': 6,\n",
       " 'Efflux ratio of the compound in human Caco2 cells': 5,\n",
       " 'Efflux ratio of apparent permeability from basolateral to apical side to apical to basolateral side in human Caco2 cells': 5,\n",
       " 'Efflux ratio of permeability across apical to basolateral side in human Caco2 cells': 5,\n",
       " 'Efflux ratio of apparent permeability across basolateral to apical side over apical to basolateral side in human Caco2 cells': 5,\n",
       " 'Efflux ratio of permeability from basolateral to apical side over apical to basolateral side in human Caco2 cell membrane': 4,\n",
       " 'Efflux ratio of apparent permeability from apical to basolateral side to basolateral to apical side in human Caco2 cells': 4,\n",
       " 'Efflux ratio of apparent permeability across human Caco2 cells': 4,\n",
       " 'Efflux ratio of permeability across basolateral to apical side over apical to basolateral side in human Caco2 cells': 4,\n",
       " 'Efflux ratio of apparent permeability from basal to apical to apical to basal side of human Caco2 cells at 10 uM after 90 mins by LC-MS/MS analysis': 4,\n",
       " 'Efflux ratio of apparent permeability of the compound from basal to apical to apical to basal side of human Caco2 cells at 1 uM after 60 mins by LCMS analysis': 4,\n",
       " 'Efflux ratio of permeability from apical to basal to basal to apical side of human Caco2 cells': 4,\n",
       " 'Efflux ratio of apparent permeability from basolateral to apical side over apical to basolateral side in human Caco2 cells at 20 uM': 4,\n",
       " 'Efflux ratio of permeability from apical to basolateral side over basolateral to apical side of human Caco2 cells up to 95 mins by LC-MS/MS analysis': 3,\n",
       " 'Efflux ratio of permeability from basolateral to apical side to apical to basolateral side of human Caco2 cells': 3,\n",
       " 'Efflux ratio of permeability across human Caco2 cells': 3,\n",
       " 'Efflux ratio of permeability from basolateral to apical side over apical to basolateral side in human Caco2 cells after 2 hrs by HPLC analysis': 3,\n",
       " 'Efflux ratio of permeability from basolateral to apical side over apical to basolateral side in human Caco2 cells at 1 uM after 1 to 2 hrs by LC-MS analysis': 3,\n",
       " 'Efflux ratio of permeability from basolateral to apical side over apical to basolateral side in human Caco2 cells at 10 uM after 1 to 2 hrs by LC-MS analysis': 3,\n",
       " 'Efflux ratio of apparent permeability from basolateral to apical side over apical to basolateral side in human Caco2 cells at 10 uM incubated for 1 hr by HPLC-MS/MS analysis': 3,\n",
       " 'Efflux ratio of permeability from basolateral to apical side over apical to basolateral side in human Caco2 cells at pH 7.4': 2,\n",
       " 'Efflux ratio of permeability in human Caco2 cells at pH 7.4': 2,\n",
       " 'Efflux ratio of apparent permeability from basal to apical to apical to basal side of human Caco2 cells': 2,\n",
       " 'Efflux ratio of permeability from apical to basolateral over basolateral to apical side in human Caco2 cells by LC-MS/MS analysis': 2,\n",
       " 'Efflux ratio of apparent permeability across human Caco2 cells at 10 uM after 60 mins': 2,\n",
       " 'Efflux ratio of permeability from basolateral to apical over apical to basolateral side in human Caco2 cells at 50 uM after 2 hrs by lucifer yellow dye-based fluorimetry': 2,\n",
       " 'Efflux ratio of permeability from basolateral to apical side over apical to basolateral side in human Caco2 cells at 10 to 100 uM after 30 to 120 mins': 2,\n",
       " 'Efflux ratio from basolateral to apical side to apical to basolateral side of human Caco2 cells': 2,\n",
       " 'Efflux ratio, ratio of permeability across apical to basolateral side over basolateral to apical side in human Caco2 cell membrane': 2,\n",
       " 'Efflux ratio of apparent permeability from basal to apical to apical to basal side of human Caco2 cells at 50 uM after 2 hrs': 2,\n",
       " 'Efflux ratio of intrinsic permeability across basolateral to apical over apical to basolateral side in human Caco2 cells': 2,\n",
       " 'Efflux ratio of permeability from basolateral to apical side to apical to basolateral side in human Caco2 cells after 21 days by UV spectroscopy': 2,\n",
       " 'Efflux ratio of permeability from apical to basolateral over basolateral to apical side in human Caco2 cells at 10 uM up to 150 mins': 2,\n",
       " 'Efflux ratio of apparent permeability across apical to basolateral side over basolateral to apical side in human Caco2 cells': 2,\n",
       " 'Efflux ratio of apparent permeability from basolateral to apical side over apical to basolateral side in human Caco2 cells at 1 to 100 uM after 120 mins by UV spectroscopic analysis': 2,\n",
       " 'Efflux ratio of apparent permeability in human Caco2 cells at 10 uM incubated for 120 mins by LC-MS/MS analysis': 2,\n",
       " 'Efflux ratio of apparent permeability from apical to basolateral side to basolateral to apical side in human Caco2 cells at 50 uM at pH 7.4 by HPLC-DAD analysis': 1,\n",
       " 'Efflux ratio in human Caco2 cells': 1,\n",
       " 'Efflux ratio of apparent permeability from basolateral to apical side over apical to basolateral side in human Caco2 cells at 10 microM for 2 hrs by LC-MS/MS analysis': 1,\n",
       " 'Efflux ratio of apparent permeability from apical to basolateral side over basolateral to apical side in human Caco2 cells at 10 uM after 2 hrs': 1,\n",
       " 'Efflux ratio of apparent permeability from apical to basolateral side to basolateral to apical side in human Caco2 cells at 25 uM at pH 7.4 by HPLC-DAD analysis': 1,\n",
       " 'Efflux ratio of apparent permeability from basolateral to apical side to apical to basolateral side in human Caco2 cells at 50 uM at pH 7.4 by HPLC-DAD analysis': 1,\n",
       " 'Efflux ratio of apparent permeability from apical to basolateral side over basolateral to apical side in human Caco2 cells at 1 to 100 uM after 120 mins': 1,\n",
       " 'Efflux ratio of apparent permeability from apical to basal side over basal to apical side of human Caco2 cells': 1,\n",
       " 'Efflux ratio of intrinsic permeability from basolateral to apical side over apical to basolateral side in human Caco2 cells at 10 uM': 1,\n",
       " 'Efflux ratio of apparent permeability across human Caco2 cells at 10 uM after 120 mins by LC-MS/MS analysis': 1,\n",
       " 'Efflux ratio in human Caco2 cells at 5 uM at pH 7.4': 1,\n",
       " 'Efflux ratio, ratio of apparent permeability from basolateral to apical side over apparent permeability from apical to basolateral side in human Caco2 cells at 10 uM': 1,\n",
       " 'Efflux ratio of apparent permeability from basolateral to apical side to apical to basolateral side in human Caco2 cells at 25 uM at pH 7.4 by HPLC-DAD analysis': 1,\n",
       " 'Efflux ratio in human Caco2 cells at 0.5 uM at pH 7.4': 1,\n",
       " 'Efflux ratio of permeability from apical to basolateral to basolateral to apical in human Caco2 cells at 20 uM after 1 hr by lucifer yellow fluorescence assay': 1,\n",
       " 'Efflux ratio of apparent permeability across apical to basolateral side over basolateral to apical side in human Caco2 cells at 10 uM by LC-MS/MS analysis': 1,\n",
       " 'Efflux ratio of permeability from basolateral to apical to apical to basolateral in human Caco2 cells': 1,\n",
       " 'Efflux ratio of permeability from apical to basolateral side in human Caco2 cells': 1,\n",
       " 'Efflux ratio of permeability from basolateral to apical side to apical to basolateral side in human Caco2 cells at 5 uM after 21 to 28 days by LC/MS analysis': 1,\n",
       " 'Efflux ratio of compound permeability in human Caco2 cells': 1,\n",
       " 'Efflux ratio of apparent permeability across basolateral to apical side in human Caco2 cells': 1}"
      ]
     },
     "execution_count": 11,
     "metadata": {},
     "output_type": "execute_result"
    }
   ],
   "source": [
    "count_place(df,'DESCRIPTION')"
   ]
  },
  {
   "cell_type": "code",
   "execution_count": 12,
   "id": "e7659969-2ee9-48ae-9bb6-5594b50c0519",
   "metadata": {},
   "outputs": [],
   "source": [
    "import copy\n",
    "df_describ = copy.deepcopy(df)\n",
    "df_describ['RELATION'] = [ 0 if (s=='=') else (1 if ('>' in s) else 2) for s in df_describ['RELATION'] ]\n",
    "df_describ['rev'] = np.zeros(len(df_describ))"
   ]
  },
  {
   "cell_type": "code",
   "execution_count": 13,
   "id": "0445ddba-fbf0-4822-98b2-4bd8a4cc1908",
   "metadata": {
    "scrolled": true,
    "tags": []
   },
   "outputs": [
    {
     "data": {
      "text/plain": [
       "{0.7: 35,\n",
       " 0.8: 18,\n",
       " 0.9: 18,\n",
       " 0.6: 16,\n",
       " 0.5: 15,\n",
       " 0.1: 15,\n",
       " 0.2: 15,\n",
       " 0.3: 13,\n",
       " 0.84: 7,\n",
       " 0.48: 7,\n",
       " 0.4: 7,\n",
       " 0.78: 5,\n",
       " 0.55: 5,\n",
       " 0.42: 4,\n",
       " 0.91: 4,\n",
       " 0.74: 4,\n",
       " 0.61: 4,\n",
       " 0.36: 4,\n",
       " 0.41: 4,\n",
       " 0.29: 4,\n",
       " 0.25: 3,\n",
       " 0.47: 3,\n",
       " 0.46: 3,\n",
       " 0.57: 3,\n",
       " 0.23: 3,\n",
       " 0.26: 3,\n",
       " 0.067: 2,\n",
       " 0.28: 2,\n",
       " 0.0: 2,\n",
       " 0.092: 2,\n",
       " 0.88: 2,\n",
       " 0.82: 2,\n",
       " 0.63: 2,\n",
       " 0.89: 2,\n",
       " 0.53: 2,\n",
       " 0.66: 2,\n",
       " 0.22: 2,\n",
       " 0.49: 2,\n",
       " 0.31: 2,\n",
       " 0.11: 2,\n",
       " 0.54: 2,\n",
       " 0.37: 2,\n",
       " 0.34: 2,\n",
       " 0.35: 2,\n",
       " 0.32: 2,\n",
       " 0.97: 1,\n",
       " 0.59: 1,\n",
       " 0.43: 1,\n",
       " 0.79: 1,\n",
       " 0.94: 1,\n",
       " 0.87: 1,\n",
       " 0.51: 1,\n",
       " 0.71: 1,\n",
       " 0.95: 1,\n",
       " 0.45: 1,\n",
       " 0.67: 1,\n",
       " 0.72: 1,\n",
       " 0.33: 1,\n",
       " 0.21: 1,\n",
       " 0.39: 1,\n",
       " 0.77: 1,\n",
       " 0.73: 1}"
      ]
     },
     "execution_count": 13,
     "metadata": {},
     "output_type": "execute_result"
    }
   ],
   "source": [
    "count_place(df_describ[df_describ['STANDARD_VALUE']<1],'STANDARD_VALUE')"
   ]
  },
  {
   "cell_type": "code",
   "execution_count": 14,
   "id": "eccfb480-c565-4e37-8538-0ea06cecc6da",
   "metadata": {},
   "outputs": [],
   "source": [
    "val_list = []\n",
    "rel_list = []\n",
    "for i in range(len(df_describ)):\n",
    "    data = df_describ.iloc[i]\n",
    "    rel_list.append(data['RELATION'])\n",
    "    val_list.append(data['STANDARD_VALUE'])\n",
    "        \n",
    "df_describ['RELATION']=rel_list\n",
    "df_describ['STANDARD_VALUE']=val_list"
   ]
  },
  {
   "cell_type": "code",
   "execution_count": 15,
   "id": "39b76f2c-f0cc-4a1f-b078-0660be546592",
   "metadata": {},
   "outputs": [
    {
     "name": "stdout",
     "output_type": "stream",
     "text": [
      "727 1204\n"
     ]
    }
   ],
   "source": [
    "data_list = []\n",
    "tho1=2.0\n",
    "tho2=2.0\n",
    "for i in range(len(df_describ)):\n",
    "    data = df_describ.iloc[i]\n",
    "    val = data['STANDARD_VALUE']\n",
    "    rel =  data['RELATION']\n",
    "\n",
    "    if (rel==2 and val <= tho1):\n",
    "        data_list.append(0)\n",
    "    elif (rel==1 and val >= tho2):\n",
    "        data_list.append(2)\n",
    "    elif (rel==1 or rel==2):\n",
    "        data_list.append(None)\n",
    "    elif val<tho1:\n",
    "        data_list.append(0)\n",
    "    elif val>=tho1 and val<tho2:\n",
    "        data_list.append(1)\n",
    "    else:\n",
    "        data_list.append(2)\n",
    "        \n",
    "df_describ['label']=data_list\n",
    "print(len(set(df_describ['clean_smiles_pH'])),len(df_describ))\n",
    "df_describ = df_describ.dropna(subset=['label'])\n"
   ]
  },
  {
   "cell_type": "code",
   "execution_count": 16,
   "id": "4b9cb52a-7ba9-4c9b-b68b-d94934282f22",
   "metadata": {},
   "outputs": [
    {
     "data": {
      "text/plain": [
       "{2.0: 711, 0.0: 476}"
      ]
     },
     "execution_count": 16,
     "metadata": {},
     "output_type": "execute_result"
    }
   ],
   "source": [
    "count_place(df_describ,'label')"
   ]
  },
  {
   "cell_type": "code",
   "execution_count": 17,
   "id": "b34da195-bfe9-4202-b94b-43e189b9d606",
   "metadata": {},
   "outputs": [],
   "source": [
    "# df_describ['label']=[ True if s==2 else (None if s==1 else False) for s in df_describ['label'].tolist()]\n",
    "# df_describ=df_describ.dropna(subset=['label'])"
   ]
  },
  {
   "cell_type": "code",
   "execution_count": 18,
   "id": "df3907da-84d6-48ce-8723-a9f46dc9bbac",
   "metadata": {},
   "outputs": [
    {
     "data": {
      "text/plain": [
       "{2.0: 711, 0.0: 476}"
      ]
     },
     "execution_count": 18,
     "metadata": {},
     "output_type": "execute_result"
    }
   ],
   "source": [
    "count_place(df_describ,'label')"
   ]
  },
  {
   "cell_type": "code",
   "execution_count": 19,
   "id": "e730ccfe-0c29-4392-9875-eadb520d711b",
   "metadata": {},
   "outputs": [],
   "source": [
    "def test_v1(data_dict,dropna=True,strict=True):\n",
    "    from scipy.stats import chisquare,multinomial\n",
    "    val_list = []\n",
    "    for smi in data_dict.keys():\n",
    "        \n",
    "        temp = np.array(data_dict[smi])\n",
    "        total=len(temp)\n",
    "        \n",
    "        results=np.zeros(3)\n",
    "        for l in range(3):\n",
    "            results[l]=sum(temp==l)\n",
    "        \n",
    "        observed=np.zeros(2)\n",
    "        observed[0]=sum(temp<=0)\n",
    "        observed[1]=sum(temp>=1)\n",
    "        \n",
    "        if strict:\n",
    "            if results[results.argmax()]==total:\n",
    "                val_list.append(results.argmax())\n",
    "            else:\n",
    "                val_list.append(None)\n",
    "        else:\n",
    "            if observed[observed.argmax()]==total:\n",
    "                if results.argmax()==0 and results[0]==results[1]:\n",
    "                        val_list.append(1)\n",
    "                else:\n",
    "                    val_list.append(results.argmax())\n",
    "            else:\n",
    "                val_list.append(None)\n",
    "    if dropna:\n",
    "        return [(k,v) for k,v in zip(data_dict.keys(),val_list) if v is not None]\n",
    "    else:\n",
    "        return [(k,v) for k,v in zip(data_dict.keys(),val_list) ]\n",
    "    "
   ]
  },
  {
   "cell_type": "code",
   "execution_count": 20,
   "id": "130123df-407c-4c05-b703-c380f1dd873e",
   "metadata": {},
   "outputs": [],
   "source": [
    "df_describ['clean_smiles_pH'] = [ clean_and_standardize(s)[1] for s in df_describ['CANONICAL_SMILES'] ]\n",
    "data_dict = defaultdict(list)\n",
    "smiles_dict = defaultdict(list)\n",
    "for i in range(len(df_describ)):\n",
    "    data = df_describ.iloc[i]\n",
    "    smiles = data['clean_smiles_pH']\n",
    "    smiles_dict[smiles].append(i)\n",
    "    data_dict[smiles].append(data['label'])\n",
    "\n",
    "val_list = []\n",
    "for k,v in test_v1(data_dict,dropna=False,strict=False):\n",
    "    val_list.append(v)\n",
    "        \n",
    "smiles = list(data_dict.keys())\n",
    "df_process = pd.DataFrame({'smiles':smiles,'label':val_list}).dropna()"
   ]
  },
  {
   "cell_type": "code",
   "execution_count": 21,
   "id": "0f311552-97d1-4c8a-8450-86113ac4a34b",
   "metadata": {},
   "outputs": [
    {
     "data": {
      "text/plain": [
       "(708, {2.0: 415, 0.0: 293})"
      ]
     },
     "execution_count": 21,
     "metadata": {},
     "output_type": "execute_result"
    }
   ],
   "source": [
    "len(df_process),count_place(df_process,'label')"
   ]
  },
  {
   "cell_type": "code",
   "execution_count": 22,
   "id": "74ab6181-beed-451e-99d9-4c9f9f589117",
   "metadata": {},
   "outputs": [],
   "source": [
    "df_process['label']=[ True if s==2 else (None if s==1 else False) for s in df_process['label'].tolist()]\n",
    "df_process=df_process.dropna(subset=['label'])"
   ]
  },
  {
   "cell_type": "code",
   "execution_count": 23,
   "id": "9f516231-a44c-47dc-9695-68bfd87a29ee",
   "metadata": {},
   "outputs": [
    {
     "data": {
      "text/plain": [
       "(708, {True: 415, False: 293})"
      ]
     },
     "execution_count": 23,
     "metadata": {},
     "output_type": "execute_result"
    }
   ],
   "source": [
    "len(df_process),count_place(df_process,'label')"
   ]
  },
  {
   "cell_type": "code",
   "execution_count": 24,
   "id": "a4528b5c-34f6-4d04-8cec-3af87192b7f0",
   "metadata": {},
   "outputs": [],
   "source": [
    "df_process.to_csv('./substrates_refine.csv',index=False)"
   ]
  },
  {
   "cell_type": "code",
   "execution_count": 45,
   "id": "b3cfdcab-ff45-47da-a0f2-971085230b3f",
   "metadata": {},
   "outputs": [],
   "source": [
    "from copy import deepcopy\n",
    "def validation(df_process):\n",
    "    inh_com= pd.read_csv('../data_extra/competitive.csv')\n",
    "    smi_mask=list(inh_com['smiles'])\n",
    "    drug_dict={}\n",
    "    for i,smi in enumerate(smi_mask):\n",
    "        drug_dict[smi]=inh_com.iloc[i]['drug']\n",
    "    flag=[ exp in smi_mask for exp in df_process['smiles'] ]\n",
    "    df=deepcopy(df_process[flag])\n",
    "    df['drug']=list([ drug_dict[smi] for smi in df['smiles'] ])\n",
    "    df=df[['drug','smiles','label']]\n",
    "    return df"
   ]
  },
  {
   "cell_type": "code",
   "execution_count": 46,
   "id": "c538cc97-a06f-487b-8678-4e1ed493ce90",
   "metadata": {},
   "outputs": [
    {
     "data": {
      "text/html": [
       "<div>\n",
       "<style scoped>\n",
       "    .dataframe tbody tr th:only-of-type {\n",
       "        vertical-align: middle;\n",
       "    }\n",
       "\n",
       "    .dataframe tbody tr th {\n",
       "        vertical-align: top;\n",
       "    }\n",
       "\n",
       "    .dataframe thead th {\n",
       "        text-align: right;\n",
       "    }\n",
       "</style>\n",
       "<table border=\"1\" class=\"dataframe\">\n",
       "  <thead>\n",
       "    <tr style=\"text-align: right;\">\n",
       "      <th></th>\n",
       "      <th>drug</th>\n",
       "      <th>smiles</th>\n",
       "      <th>label</th>\n",
       "    </tr>\n",
       "  </thead>\n",
       "  <tbody>\n",
       "    <tr>\n",
       "      <th>248</th>\n",
       "      <td>Tariquidar</td>\n",
       "      <td>COc1cc2c(cc1OC)CN(CCc1ccc(NC(=O)c3cc(OC)c(OC)c...</td>\n",
       "      <td>True</td>\n",
       "    </tr>\n",
       "    <tr>\n",
       "      <th>302</th>\n",
       "      <td>Paclitaxel</td>\n",
       "      <td>CC(=O)OC1C(=O)C2(C)C(O)CC3OCC3(OC(C)=O)C2C(OC(...</td>\n",
       "      <td>True</td>\n",
       "    </tr>\n",
       "    <tr>\n",
       "      <th>667</th>\n",
       "      <td>Daunorubicin</td>\n",
       "      <td>COc1cccc2c1C(=O)c1c(O)c3c(c(O)c1C2=O)CC(O)(C(C...</td>\n",
       "      <td>True</td>\n",
       "    </tr>\n",
       "    <tr>\n",
       "      <th>675</th>\n",
       "      <td>Nicardipine</td>\n",
       "      <td>COC(=O)C1=C(C)NC(C)=C(C(=O)OCCN(C)Cc2ccccc2)C1...</td>\n",
       "      <td>False</td>\n",
       "    </tr>\n",
       "    <tr>\n",
       "      <th>704</th>\n",
       "      <td>Vinblastine</td>\n",
       "      <td>CCC1(O)CC2CN(CCc3c([nH]c4ccccc34)C(C(=O)OC)(c3...</td>\n",
       "      <td>True</td>\n",
       "    </tr>\n",
       "    <tr>\n",
       "      <th>705</th>\n",
       "      <td>Colchicine</td>\n",
       "      <td>COc1cc2c(c(OC)c1OC)-c1ccc(OC)c(=O)cc1C(NC(C)=O...</td>\n",
       "      <td>True</td>\n",
       "    </tr>\n",
       "  </tbody>\n",
       "</table>\n",
       "</div>"
      ],
      "text/plain": [
       "             drug                                             smiles  label\n",
       "248    Tariquidar  COc1cc2c(cc1OC)CN(CCc1ccc(NC(=O)c3cc(OC)c(OC)c...   True\n",
       "302    Paclitaxel  CC(=O)OC1C(=O)C2(C)C(O)CC3OCC3(OC(C)=O)C2C(OC(...   True\n",
       "667  Daunorubicin  COc1cccc2c1C(=O)c1c(O)c3c(c(O)c1C2=O)CC(O)(C(C...   True\n",
       "675   Nicardipine  COC(=O)C1=C(C)NC(C)=C(C(=O)OCCN(C)Cc2ccccc2)C1...  False\n",
       "704   Vinblastine  CCC1(O)CC2CN(CCc3c([nH]c4ccccc34)C(C(=O)OC)(c3...   True\n",
       "705    Colchicine  COc1cc2c(c(OC)c1OC)-c1ccc(OC)c(=O)cc1C(NC(C)=O...   True"
      ]
     },
     "execution_count": 46,
     "metadata": {},
     "output_type": "execute_result"
    }
   ],
   "source": [
    "validation(df_process)"
   ]
  },
  {
   "cell_type": "code",
   "execution_count": 47,
   "id": "08c16caf-1d54-4b95-8fe5-d8c9dbb9f536",
   "metadata": {},
   "outputs": [
    {
     "data": {
      "text/html": [
       "<div>\n",
       "<style scoped>\n",
       "    .dataframe tbody tr th:only-of-type {\n",
       "        vertical-align: middle;\n",
       "    }\n",
       "\n",
       "    .dataframe tbody tr th {\n",
       "        vertical-align: top;\n",
       "    }\n",
       "\n",
       "    .dataframe thead th {\n",
       "        text-align: right;\n",
       "    }\n",
       "</style>\n",
       "<table border=\"1\" class=\"dataframe\">\n",
       "  <thead>\n",
       "    <tr style=\"text-align: right;\">\n",
       "      <th></th>\n",
       "      <th>drug</th>\n",
       "      <th>smiles</th>\n",
       "      <th>label</th>\n",
       "    </tr>\n",
       "  </thead>\n",
       "  <tbody>\n",
       "    <tr>\n",
       "      <th>16</th>\n",
       "      <td>Rhodamine_123</td>\n",
       "      <td>COC(=O)c1ccccc1-c1c2ccc(=N)cc-2oc2cc(N)ccc12</td>\n",
       "      <td>True</td>\n",
       "    </tr>\n",
       "    <tr>\n",
       "      <th>85</th>\n",
       "      <td>Paclitaxel</td>\n",
       "      <td>CC(=O)OC1C(=O)C2(C)C(O)CC3OCC3(OC(C)=O)C2C(OC(...</td>\n",
       "      <td>True</td>\n",
       "    </tr>\n",
       "    <tr>\n",
       "      <th>115</th>\n",
       "      <td>Colchicine</td>\n",
       "      <td>COc1cc2c(c(OC)c1OC)-c1ccc(OC)c(=O)cc1C(NC(C)=O...</td>\n",
       "      <td>True</td>\n",
       "    </tr>\n",
       "    <tr>\n",
       "      <th>326</th>\n",
       "      <td>Doxorubicin</td>\n",
       "      <td>COc1cccc2c1C(=O)c1c(O)c3c(c(O)c1C2=O)CC(O)(C(=...</td>\n",
       "      <td>True</td>\n",
       "    </tr>\n",
       "    <tr>\n",
       "      <th>487</th>\n",
       "      <td>Vinblastine</td>\n",
       "      <td>CCC1(O)CC2CN(CCc3c([nH]c4ccccc34)C(C(=O)OC)(c3...</td>\n",
       "      <td>True</td>\n",
       "    </tr>\n",
       "    <tr>\n",
       "      <th>537</th>\n",
       "      <td>Morphine</td>\n",
       "      <td>CN1CCC23c4c5ccc(O)c4OC2C(O)C=CC3C1C5</td>\n",
       "      <td>True</td>\n",
       "    </tr>\n",
       "    <tr>\n",
       "      <th>563</th>\n",
       "      <td>Nicardipine</td>\n",
       "      <td>COC(=O)C1=C(C)NC(C)=C(C(=O)OCCN(C)Cc2ccccc2)C1...</td>\n",
       "      <td>False</td>\n",
       "    </tr>\n",
       "    <tr>\n",
       "      <th>614</th>\n",
       "      <td>Daunorubicin</td>\n",
       "      <td>COc1cccc2c1C(=O)c1c(O)c3c(c(O)c1C2=O)CC(O)(C(C...</td>\n",
       "      <td>True</td>\n",
       "    </tr>\n",
       "    <tr>\n",
       "      <th>749</th>\n",
       "      <td>Elacridar</td>\n",
       "      <td>COc1cc2c(cc1OC)CN(CCc1ccc(NC(=O)c3cccc4c(=O)c5...</td>\n",
       "      <td>False</td>\n",
       "    </tr>\n",
       "    <tr>\n",
       "      <th>962</th>\n",
       "      <td>Verapamil</td>\n",
       "      <td>COc1ccc(CCN(C)CCCC(C#N)(c2ccc(OC)c(OC)c2)C(C)C...</td>\n",
       "      <td>True</td>\n",
       "    </tr>\n",
       "    <tr>\n",
       "      <th>1211</th>\n",
       "      <td>Hoechst_33342</td>\n",
       "      <td>CCOc1ccc(-c2nc3ccc(-c4nc5ccc(N6CCN(C)CC6)cc5[n...</td>\n",
       "      <td>True</td>\n",
       "    </tr>\n",
       "  </tbody>\n",
       "</table>\n",
       "</div>"
      ],
      "text/plain": [
       "               drug                                             smiles  label\n",
       "16    Rhodamine_123       COC(=O)c1ccccc1-c1c2ccc(=N)cc-2oc2cc(N)ccc12   True\n",
       "85       Paclitaxel  CC(=O)OC1C(=O)C2(C)C(O)CC3OCC3(OC(C)=O)C2C(OC(...   True\n",
       "115      Colchicine  COc1cc2c(c(OC)c1OC)-c1ccc(OC)c(=O)cc1C(NC(C)=O...   True\n",
       "326     Doxorubicin  COc1cccc2c1C(=O)c1c(O)c3c(c(O)c1C2=O)CC(O)(C(=...   True\n",
       "487     Vinblastine  CCC1(O)CC2CN(CCc3c([nH]c4ccccc34)C(C(=O)OC)(c3...   True\n",
       "537        Morphine               CN1CCC23c4c5ccc(O)c4OC2C(O)C=CC3C1C5   True\n",
       "563     Nicardipine  COC(=O)C1=C(C)NC(C)=C(C(=O)OCCN(C)Cc2ccccc2)C1...  False\n",
       "614    Daunorubicin  COc1cccc2c1C(=O)c1c(O)c3c(c(O)c1C2=O)CC(O)(C(C...   True\n",
       "749       Elacridar  COc1cc2c(cc1OC)CN(CCc1ccc(NC(=O)c3cccc4c(=O)c5...  False\n",
       "962       Verapamil  COc1ccc(CCN(C)CCCC(C#N)(c2ccc(OC)c(OC)c2)C(C)C...   True\n",
       "1211  Hoechst_33342  CCOc1ccc(-c2nc3ccc(-c4nc5ccc(N6CCN(C)CC6)cc5[n...   True"
      ]
     },
     "execution_count": 47,
     "metadata": {},
     "output_type": "execute_result"
    }
   ],
   "source": [
    "validation(pd.read_csv('../data_classes/substrates_classes.csv'))"
   ]
  }
 ],
 "metadata": {
  "kernelspec": {
   "display_name": "Python 3 (ipykernel)",
   "language": "python",
   "name": "python3"
  },
  "language_info": {
   "codemirror_mode": {
    "name": "ipython",
    "version": 3
   },
   "file_extension": ".py",
   "mimetype": "text/x-python",
   "name": "python",
   "nbconvert_exporter": "python",
   "pygments_lexer": "ipython3",
   "version": "3.10.13"
  }
 },
 "nbformat": 4,
 "nbformat_minor": 5
}
