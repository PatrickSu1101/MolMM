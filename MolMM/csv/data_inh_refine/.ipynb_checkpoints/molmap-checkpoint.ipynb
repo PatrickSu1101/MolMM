{
 "cells": [
  {
   "cell_type": "code",
   "execution_count": 1,
   "id": "50d06034-9a94-45b6-8dc7-c76b850de120",
   "metadata": {},
   "outputs": [],
   "source": [
    "from molmap import loadmap\n",
    "\n",
    "import matplotlib.pyplot as plt\n",
    "import matplotlib.patches as mpatches\n",
    "import seaborn as sns\n",
    "\n",
    "from rdkit import Chem\n",
    "from rdkit.Chem import Draw\n",
    "from rdkit.Chem.Draw import IPythonConsole\n",
    "#IPythonConsole.ipython_useSVG = True\n",
    "import numpy as np\n",
    "import pandas as pd"
   ]
  },
  {
   "cell_type": "code",
   "execution_count": 55,
   "id": "40f97721-9b95-48b5-8449-1e970d362bb6",
   "metadata": {},
   "outputs": [],
   "source": [
    "mp1 = loadmap('./descriptor.mp')\n",
    "mp2 = loadmap('./fingerprint.mp')"
   ]
  },
  {
   "cell_type": "code",
   "execution_count": 57,
   "id": "eabb166f-7b65-4c12-93e1-372cef540c04",
   "metadata": {},
   "outputs": [],
   "source": [
    "df = mp1.df_embedding"
   ]
  },
  {
   "cell_type": "code",
   "execution_count": 3,
   "id": "ea8d06f2-cf4e-4162-9612-21ba4d4b42df",
   "metadata": {},
   "outputs": [],
   "source": [
    "def clean_and_standardize(smiles):\n",
    "    try:\n",
    "        # Convert SMILES to RDKit molecule\n",
    "        mol = Chem.MolFromSmiles(smiles)\n",
    "        \n",
    "        # Skip invalid molecules\n",
    "        if mol is None:\n",
    "            return None\n",
    "\n",
    "        # Canonicalize the SMILES\n",
    "        # canonical_smiles = Chem.MolToSmiles(mol, isomericSmiles=True, canonical=True)\n",
    "\n",
    "        # Remove salts and other fragments / Keep only the largest fragment\n",
    "        fragments = Chem.GetMolFrags(mol, asMols=True)\n",
    "        largest_fragment = max(fragments, default=None, key=lambda m: m.GetNumAtoms())\n",
    "        if largest_fragment is None:\n",
    "            return None\n",
    "        \n",
    "        ob_mol = pybel.readstring(\"smi\", Chem.MolToSmiles(largest_fragment, isomericSmiles=True, canonical=True))\n",
    "        \n",
    "        ob_mol.OBMol.AddHydrogens(False, True, ph)\n",
    "\n",
    "        # Convert back to SMILES\n",
    "        adjusted_smiles = ob_mol.write(\"smi\").strip()\n",
    "\n",
    "        return adjusted_smiles\n",
    "    \n",
    "    except Exception as e:\n",
    "        print(f\"Error processing SMILES {smiles}: {e}\")\n",
    "        return None"
   ]
  },
  {
   "cell_type": "code",
   "execution_count": 5,
   "id": "7ca85a4b-fc96-440d-806e-435fbe13b4b0",
   "metadata": {},
   "outputs": [],
   "source": [
    "inh = pd.read_csv('./inh_data_clean.csv',encoding='utf-8')"
   ]
  },
  {
   "cell_type": "code",
   "execution_count": 11,
   "id": "724af566-72cd-4779-8705-a0c367dd030b",
   "metadata": {},
   "outputs": [],
   "source": []
  },
  {
   "cell_type": "code",
   "execution_count": null,
   "id": "a90a8221-77f4-42bb-b091-e3dc707cfcb9",
   "metadata": {
    "scrolled": true,
    "tags": []
   },
   "outputs": [],
   "source": [
    "smiles_list"
   ]
  },
  {
   "cell_type": "code",
   "execution_count": null,
   "id": "88d4cb47-5423-4b2d-80f9-1666edc599f1",
   "metadata": {
    "tags": []
   },
   "outputs": [],
   "source": [
    "inh = pd.read_csv('./inh_data_clean.csv',encoding='utf-8')\n",
    "smiles_list = inh['smiles'].tolist()\n",
    "clean = []\n",
    "for smi in smiles_list:\n",
    "    std_smi = clean_and_standardize(smi)\n",
    "    clean.append(std_smi)"
   ]
  },
  {
   "cell_type": "code",
   "execution_count": 16,
   "id": "edf3dcd6-0862-4b9f-959c-2678269d8206",
   "metadata": {},
   "outputs": [],
   "source": [
    "inh['clean_smiles'] = clean"
   ]
  },
  {
   "cell_type": "code",
   "execution_count": 30,
   "id": "5ca18bdd-1cc4-459e-898d-db73d24f5816",
   "metadata": {},
   "outputs": [
    {
     "data": {
      "text/plain": [
       "2"
      ]
     },
     "execution_count": 30,
     "metadata": {},
     "output_type": "execute_result"
    }
   ],
   "source": [
    "sum(inh['clean_smiles'].isna())"
   ]
  },
  {
   "cell_type": "code",
   "execution_count": null,
   "id": "e331df79-97b9-4d1a-9c5a-08f801930f5c",
   "metadata": {},
   "outputs": [],
   "source": [
    "from openbabel import pybel\n",
    "clean = []\n",
    "for smi in inh['clean_smiles']:\n",
    "    clean.append(adjust_protonation_state(smi))"
   ]
  },
  {
   "cell_type": "code",
   "execution_count": 28,
   "id": "35de598b-c704-4bdd-a6dd-80bdbff7e068",
   "metadata": {},
   "outputs": [],
   "source": [
    "inh['clean_smiles_pH'] = clean"
   ]
  },
  {
   "cell_type": "code",
   "execution_count": 29,
   "id": "3317ebd4-ed02-4bdd-8f4d-cad1c980a87f",
   "metadata": {},
   "outputs": [
    {
     "data": {
      "text/plain": [
       "2"
      ]
     },
     "execution_count": 29,
     "metadata": {},
     "output_type": "execute_result"
    }
   ],
   "source": [
    "sum(inh['clean_smiles_pH'].isna())"
   ]
  },
  {
   "cell_type": "code",
   "execution_count": 31,
   "id": "a34e7b09-61cd-4e92-9d22-7c03751ac2f1",
   "metadata": {},
   "outputs": [],
   "source": [
    "inh.to_csv('clean_inhibitors.csv',index=False)"
   ]
  },
  {
   "cell_type": "code",
   "execution_count": 32,
   "id": "ceb3a8a3-7c48-4e55-9d61-ea57da5a7f53",
   "metadata": {},
   "outputs": [],
   "source": [
    "from tqdm import tqdm"
   ]
  },
  {
   "cell_type": "code",
   "execution_count": 33,
   "id": "f590188e-4553-4708-981a-23623faae28f",
   "metadata": {},
   "outputs": [],
   "source": [
    "def generate_map(name):\n",
    "    df = pd.read_csv('./clean_'+name+'.csv',encoding='utf-8')\n",
    "    smi = df['clean_smiles_pH']\n",
    "    F = mp1.batch_transform(smi)\n",
    "    np.save('./data/'+name+'.npy',F)"
   ]
  },
  {
   "cell_type": "code",
   "execution_count": 34,
   "id": "585ee311-b4a5-47c0-a89c-62586389602c",
   "metadata": {},
   "outputs": [],
   "source": [
    "def generate_MolDs(name):\n",
    "    df = pd.read_csv('./clean_'+name+'.csv',encoding='utf-8')\n",
    "    smi = df['clean_smiles_pH']\n",
    "    df_list = []\n",
    "    for s in tqdm(smi):\n",
    "        arr = mp1.extract.transform(s)\n",
    "        df = pd.DataFrame(arr).T\n",
    "        df.columns = mp1.extract.bitsinfo.IDs\n",
    "        df_list.append(df)\n",
    "    return pd.concat(df_list)\n",
    "    # np.save('./data/'+name+'fp.npy',F)"
   ]
  },
  {
   "cell_type": "code",
   "execution_count": 35,
   "id": "3cc14275-01dd-406d-aa31-94082e55f0fd",
   "metadata": {},
   "outputs": [],
   "source": [
    "mp1 = loadmap('./test.mp')"
   ]
  },
  {
   "cell_type": "code",
   "execution_count": 36,
   "id": "9fa4e13b-ebd5-4e56-a979-f31f2d5accbb",
   "metadata": {},
   "outputs": [
    {
     "name": "stderr",
     "output_type": "stream",
     "text": [
      "  7%|▋         | 151/2018 [00:27<03:52,  8.03it/s]"
     ]
    },
    {
     "name": "stdout",
     "output_type": "stream",
     "text": [
      "error when calculating nan\n"
     ]
    },
    {
     "name": "stderr",
     "output_type": "stream",
     "text": [
      " 38%|███▊      | 772/2018 [02:06<03:27,  6.00it/s][10:08:04] Explicit valence for atom # 4 O, 3, is greater than permitted\n",
      " 38%|███▊      | 774/2018 [02:07<02:29,  8.33it/s]"
     ]
    },
    {
     "name": "stdout",
     "output_type": "stream",
     "text": [
      "error when calculating COC1=C([O-]C)[C@]2(OC)c3c(OC)c(OC)c4c(c3O[C@]32O[C@@H](c2ccccc2)CC=C3C1=O)[C@@H](OC)C[C@H](c1ccccc1)O4\n"
     ]
    },
    {
     "name": "stderr",
     "output_type": "stream",
     "text": [
      " 64%|██████▍   | 1294/2018 [03:30<01:42,  7.05it/s][10:09:27] Explicit valence for atom # 4 O, 3, is greater than permitted\n",
      " 64%|██████▍   | 1296/2018 [03:30<01:21,  8.90it/s]"
     ]
    },
    {
     "name": "stdout",
     "output_type": "stream",
     "text": [
      "error when calculating COC1=C([O-]C)[C@]2(OC)c3c(OC)c(OC)c4c(c3O[C@]32O[C@@H](c2ccccc2)CC=C3C1=O)[C@@H](O)C[C@H](c1ccccc1)O4\n"
     ]
    },
    {
     "name": "stderr",
     "output_type": "stream",
     "text": [
      " 64%|██████▍   | 1299/2018 [03:31<02:11,  5.45it/s][10:09:28] Explicit valence for atom # 35 O, 3, is greater than permitted\n",
      " 65%|██████▍   | 1302/2018 [03:31<01:24,  8.51it/s]"
     ]
    },
    {
     "name": "stdout",
     "output_type": "stream",
     "text": [
      "error when calculating COc1c2c(c3c(c1OC)[C@@]1(OC)C4=C(C(=O)[C@H](OC)[C@@]1(OC)O3)[C@H](OC)C[C@@H](c1ccccc1)[O-]4)[C@H](O)C[C@@H](c1ccccc1)O2\n"
     ]
    },
    {
     "name": "stderr",
     "output_type": "stream",
     "text": [
      " 73%|███████▎  | 1480/2018 [03:59<01:15,  7.15it/s][10:09:56] Explicit valence for atom # 39 N, 4, is greater than permitted\n",
      " 73%|███████▎  | 1482/2018 [03:59<00:56,  9.47it/s]"
     ]
    },
    {
     "name": "stdout",
     "output_type": "stream",
     "text": [
      "error when calculating CCOc1nc2cccc(C(=O)OC(C)OC(=O)OC3CCCCC3)c2n1Cc1ccc(c2ccccc2C2=[N-]N=NN2)cc1\n"
     ]
    },
    {
     "name": "stderr",
     "output_type": "stream",
     "text": [
      " 84%|████████▎ | 1687/2018 [04:29<00:43,  7.66it/s][10:10:27] Explicit valence for atom # 26 N, 4, is greater than permitted\n",
      " 84%|████████▎ | 1689/2018 [04:29<00:37,  8.81it/s]"
     ]
    },
    {
     "name": "stdout",
     "output_type": "stream",
     "text": [
      "error when calculating CCCCC1=[NH+]C2(CCCC2)C(=O)N1Cc1ccc(c2ccccc2C2=[N-]N=NN2)cc1\n"
     ]
    },
    {
     "name": "stderr",
     "output_type": "stream",
     "text": [
      " 89%|████████▉ | 1801/2018 [04:47<00:27,  7.90it/s]"
     ]
    },
    {
     "name": "stdout",
     "output_type": "stream",
     "text": [
      "error when calculating nan\n"
     ]
    },
    {
     "name": "stderr",
     "output_type": "stream",
     "text": [
      "100%|██████████| 2018/2018 [05:16<00:00,  6.38it/s]\n"
     ]
    }
   ],
   "source": [
    "inh = generate_MolDs('inhibitors')"
   ]
  },
  {
   "cell_type": "code",
   "execution_count": 40,
   "id": "1e2d81e6-8eb7-4a82-9b30-ed4b85407b92",
   "metadata": {},
   "outputs": [],
   "source": [
    "mask = ~inh.isna().any(axis=1)"
   ]
  },
  {
   "cell_type": "code",
   "execution_count": 43,
   "id": "7f33bad8-4cee-456e-bf7f-269854d50b9b",
   "metadata": {},
   "outputs": [
    {
     "data": {
      "text/plain": [
       "(2018, 1456)"
      ]
     },
     "execution_count": 43,
     "metadata": {},
     "output_type": "execute_result"
    }
   ],
   "source": [
    "inh.shape"
   ]
  },
  {
   "cell_type": "code",
   "execution_count": 44,
   "id": "c9c78bd9-eebb-4dbd-8228-e99fd3c2c925",
   "metadata": {},
   "outputs": [],
   "source": [
    "df = pd.read_csv('./clean_inhibitors.csv',encoding='utf-8')"
   ]
  },
  {
   "cell_type": "code",
   "execution_count": 42,
   "id": "1744ade1-a8b5-430e-b120-5014bd56500c",
   "metadata": {},
   "outputs": [
    {
     "data": {
      "text/plain": [
       "2002"
      ]
     },
     "execution_count": 42,
     "metadata": {},
     "output_type": "execute_result"
    }
   ],
   "source": [
    "sum(mask)"
   ]
  },
  {
   "cell_type": "code",
   "execution_count": 48,
   "id": "d29e72f4-944f-4922-8c99-545ea13fb5cb",
   "metadata": {},
   "outputs": [],
   "source": [
    "df['used'] = mask.to_numpy().astype(np.int_)"
   ]
  },
  {
   "cell_type": "code",
   "execution_count": 50,
   "id": "58dec654-80e6-4ec6-bfbd-54d2f7b7b9d5",
   "metadata": {},
   "outputs": [],
   "source": [
    "df.to_csv('clean_inhibitors.csv',index=False)"
   ]
  },
  {
   "cell_type": "code",
   "execution_count": 51,
   "id": "942514d2-866d-45dc-8cfb-575a31a4c800",
   "metadata": {},
   "outputs": [
    {
     "data": {
      "text/html": [
       "<div>\n",
       "<style scoped>\n",
       "    .dataframe tbody tr th:only-of-type {\n",
       "        vertical-align: middle;\n",
       "    }\n",
       "\n",
       "    .dataframe tbody tr th {\n",
       "        vertical-align: top;\n",
       "    }\n",
       "\n",
       "    .dataframe thead th {\n",
       "        text-align: right;\n",
       "    }\n",
       "</style>\n",
       "<table border=\"1\" class=\"dataframe\">\n",
       "  <thead>\n",
       "    <tr style=\"text-align: right;\">\n",
       "      <th>IDs</th>\n",
       "      <th>MolWeight</th>\n",
       "      <th>MolExactWeight</th>\n",
       "      <th>MolAverageWeight</th>\n",
       "      <th>MolHeavyAtomWeight</th>\n",
       "      <th>MolFilterItLogS</th>\n",
       "      <th>MolSLogP</th>\n",
       "      <th>MolQedWeightsMax</th>\n",
       "      <th>MolQedWeightsMean</th>\n",
       "      <th>MolQedWeightsNone</th>\n",
       "      <th>MolRefractivity</th>\n",
       "      <th>...</th>\n",
       "      <th>MIC2</th>\n",
       "      <th>MIC3</th>\n",
       "      <th>MIC4</th>\n",
       "      <th>MIC5</th>\n",
       "      <th>ZMIC0</th>\n",
       "      <th>ZMIC1</th>\n",
       "      <th>ZMIC2</th>\n",
       "      <th>ZMIC3</th>\n",
       "      <th>ZMIC4</th>\n",
       "      <th>ZMIC5</th>\n",
       "    </tr>\n",
       "  </thead>\n",
       "  <tbody>\n",
       "    <tr>\n",
       "      <th>0</th>\n",
       "      <td>518.590</td>\n",
       "      <td>518.22856</td>\n",
       "      <td>13.64711</td>\n",
       "      <td>486.334</td>\n",
       "      <td>-8.66773</td>\n",
       "      <td>3.36140</td>\n",
       "      <td>0.34051</td>\n",
       "      <td>0.30257</td>\n",
       "      <td>0.30116</td>\n",
       "      <td>140.2057</td>\n",
       "      <td>...</td>\n",
       "      <td>39.812619</td>\n",
       "      <td>43.136505</td>\n",
       "      <td>44.143459</td>\n",
       "      <td>44.600573</td>\n",
       "      <td>126.834747</td>\n",
       "      <td>71.949317</td>\n",
       "      <td>40.635939</td>\n",
       "      <td>31.560223</td>\n",
       "      <td>28.057929</td>\n",
       "      <td>27.114093</td>\n",
       "    </tr>\n",
       "    <tr>\n",
       "      <th>0</th>\n",
       "      <td>612.728</td>\n",
       "      <td>612.21628</td>\n",
       "      <td>13.92564</td>\n",
       "      <td>578.456</td>\n",
       "      <td>-10.34632</td>\n",
       "      <td>4.51950</td>\n",
       "      <td>0.17681</td>\n",
       "      <td>0.16216</td>\n",
       "      <td>0.18616</td>\n",
       "      <td>164.7701</td>\n",
       "      <td>...</td>\n",
       "      <td>44.552448</td>\n",
       "      <td>47.442861</td>\n",
       "      <td>48.301180</td>\n",
       "      <td>48.711411</td>\n",
       "      <td>143.027516</td>\n",
       "      <td>84.398941</td>\n",
       "      <td>42.195067</td>\n",
       "      <td>32.072829</td>\n",
       "      <td>29.450057</td>\n",
       "      <td>28.571000</td>\n",
       "    </tr>\n",
       "    <tr>\n",
       "      <th>0</th>\n",
       "      <td>608.715</td>\n",
       "      <td>608.27551</td>\n",
       "      <td>13.52700</td>\n",
       "      <td>570.411</td>\n",
       "      <td>-10.73595</td>\n",
       "      <td>5.32190</td>\n",
       "      <td>0.20623</td>\n",
       "      <td>0.16957</td>\n",
       "      <td>0.18126</td>\n",
       "      <td>169.0447</td>\n",
       "      <td>...</td>\n",
       "      <td>40.967700</td>\n",
       "      <td>44.841197</td>\n",
       "      <td>45.696389</td>\n",
       "      <td>46.081907</td>\n",
       "      <td>149.299234</td>\n",
       "      <td>88.605858</td>\n",
       "      <td>43.297702</td>\n",
       "      <td>31.043007</td>\n",
       "      <td>28.311229</td>\n",
       "      <td>27.467848</td>\n",
       "    </tr>\n",
       "    <tr>\n",
       "      <th>0</th>\n",
       "      <td>409.574</td>\n",
       "      <td>409.27183</td>\n",
       "      <td>13.65247</td>\n",
       "      <td>374.294</td>\n",
       "      <td>-7.31112</td>\n",
       "      <td>0.32744</td>\n",
       "      <td>0.36407</td>\n",
       "      <td>0.38912</td>\n",
       "      <td>0.49224</td>\n",
       "      <td>122.6352</td>\n",
       "      <td>...</td>\n",
       "      <td>33.564521</td>\n",
       "      <td>35.608668</td>\n",
       "      <td>36.502883</td>\n",
       "      <td>36.626945</td>\n",
       "      <td>103.134150</td>\n",
       "      <td>54.133361</td>\n",
       "      <td>35.354460</td>\n",
       "      <td>28.858446</td>\n",
       "      <td>25.704040</td>\n",
       "      <td>24.708412</td>\n",
       "    </tr>\n",
       "    <tr>\n",
       "      <th>0</th>\n",
       "      <td>626.755</td>\n",
       "      <td>626.23193</td>\n",
       "      <td>13.92789</td>\n",
       "      <td>590.467</td>\n",
       "      <td>-10.73188</td>\n",
       "      <td>4.90960</td>\n",
       "      <td>0.16006</td>\n",
       "      <td>0.14537</td>\n",
       "      <td>0.16966</td>\n",
       "      <td>169.3871</td>\n",
       "      <td>...</td>\n",
       "      <td>44.387231</td>\n",
       "      <td>47.170591</td>\n",
       "      <td>47.997121</td>\n",
       "      <td>48.392158</td>\n",
       "      <td>146.867818</td>\n",
       "      <td>84.593561</td>\n",
       "      <td>41.862354</td>\n",
       "      <td>31.917388</td>\n",
       "      <td>29.356801</td>\n",
       "      <td>28.499547</td>\n",
       "    </tr>\n",
       "    <tr>\n",
       "      <th>...</th>\n",
       "      <td>...</td>\n",
       "      <td>...</td>\n",
       "      <td>...</td>\n",
       "      <td>...</td>\n",
       "      <td>...</td>\n",
       "      <td>...</td>\n",
       "      <td>...</td>\n",
       "      <td>...</td>\n",
       "      <td>...</td>\n",
       "      <td>...</td>\n",
       "      <td>...</td>\n",
       "      <td>...</td>\n",
       "      <td>...</td>\n",
       "      <td>...</td>\n",
       "      <td>...</td>\n",
       "      <td>...</td>\n",
       "      <td>...</td>\n",
       "      <td>...</td>\n",
       "      <td>...</td>\n",
       "      <td>...</td>\n",
       "      <td>...</td>\n",
       "    </tr>\n",
       "    <tr>\n",
       "      <th>0</th>\n",
       "      <td>136.238</td>\n",
       "      <td>136.12520</td>\n",
       "      <td>13.62380</td>\n",
       "      <td>120.110</td>\n",
       "      <td>-2.22807</td>\n",
       "      <td>3.30890</td>\n",
       "      <td>0.56167</td>\n",
       "      <td>0.51850</td>\n",
       "      <td>0.33452</td>\n",
       "      <td>45.9120</td>\n",
       "      <td>...</td>\n",
       "      <td>20.684836</td>\n",
       "      <td>22.532682</td>\n",
       "      <td>22.765297</td>\n",
       "      <td>22.765297</td>\n",
       "      <td>38.708444</td>\n",
       "      <td>23.134380</td>\n",
       "      <td>21.005689</td>\n",
       "      <td>18.512976</td>\n",
       "      <td>17.782037</td>\n",
       "      <td>17.782037</td>\n",
       "    </tr>\n",
       "    <tr>\n",
       "      <th>0</th>\n",
       "      <td>247.362</td>\n",
       "      <td>247.18049</td>\n",
       "      <td>13.74233</td>\n",
       "      <td>224.178</td>\n",
       "      <td>-3.56328</td>\n",
       "      <td>1.05460</td>\n",
       "      <td>0.84631</td>\n",
       "      <td>0.83057</td>\n",
       "      <td>0.73102</td>\n",
       "      <td>71.9101</td>\n",
       "      <td>...</td>\n",
       "      <td>28.679867</td>\n",
       "      <td>30.241343</td>\n",
       "      <td>30.358244</td>\n",
       "      <td>30.358244</td>\n",
       "      <td>62.547451</td>\n",
       "      <td>34.426508</td>\n",
       "      <td>26.622119</td>\n",
       "      <td>23.243922</td>\n",
       "      <td>22.807809</td>\n",
       "      <td>22.807809</td>\n",
       "    </tr>\n",
       "    <tr>\n",
       "      <th>0</th>\n",
       "      <td>339.398</td>\n",
       "      <td>339.12971</td>\n",
       "      <td>13.57592</td>\n",
       "      <td>319.238</td>\n",
       "      <td>-7.00183</td>\n",
       "      <td>4.30600</td>\n",
       "      <td>0.57244</td>\n",
       "      <td>0.48626</td>\n",
       "      <td>0.29365</td>\n",
       "      <td>111.2240</td>\n",
       "      <td>...</td>\n",
       "      <td>21.596046</td>\n",
       "      <td>27.286761</td>\n",
       "      <td>27.712799</td>\n",
       "      <td>27.712799</td>\n",
       "      <td>81.879149</td>\n",
       "      <td>82.075238</td>\n",
       "      <td>71.190110</td>\n",
       "      <td>55.111483</td>\n",
       "      <td>52.734076</td>\n",
       "      <td>52.734076</td>\n",
       "    </tr>\n",
       "    <tr>\n",
       "      <th>0</th>\n",
       "      <td>339.398</td>\n",
       "      <td>339.12971</td>\n",
       "      <td>13.57592</td>\n",
       "      <td>319.238</td>\n",
       "      <td>-7.00183</td>\n",
       "      <td>4.30600</td>\n",
       "      <td>0.57244</td>\n",
       "      <td>0.48626</td>\n",
       "      <td>0.29365</td>\n",
       "      <td>111.2240</td>\n",
       "      <td>...</td>\n",
       "      <td>21.596046</td>\n",
       "      <td>27.286761</td>\n",
       "      <td>27.712799</td>\n",
       "      <td>27.712799</td>\n",
       "      <td>81.879149</td>\n",
       "      <td>82.075238</td>\n",
       "      <td>71.190110</td>\n",
       "      <td>55.111483</td>\n",
       "      <td>52.734076</td>\n",
       "      <td>52.734076</td>\n",
       "    </tr>\n",
       "    <tr>\n",
       "      <th>0</th>\n",
       "      <td>136.238</td>\n",
       "      <td>136.12520</td>\n",
       "      <td>13.62380</td>\n",
       "      <td>120.110</td>\n",
       "      <td>-2.45864</td>\n",
       "      <td>3.45300</td>\n",
       "      <td>0.47261</td>\n",
       "      <td>0.44731</td>\n",
       "      <td>0.30390</td>\n",
       "      <td>45.9820</td>\n",
       "      <td>...</td>\n",
       "      <td>20.015692</td>\n",
       "      <td>22.212267</td>\n",
       "      <td>22.687759</td>\n",
       "      <td>22.687759</td>\n",
       "      <td>38.708444</td>\n",
       "      <td>25.574475</td>\n",
       "      <td>22.490017</td>\n",
       "      <td>19.273561</td>\n",
       "      <td>17.989763</td>\n",
       "      <td>17.989763</td>\n",
       "    </tr>\n",
       "  </tbody>\n",
       "</table>\n",
       "<p>2018 rows × 1456 columns</p>\n",
       "</div>"
      ],
      "text/plain": [
       "IDs  MolWeight  MolExactWeight  MolAverageWeight  MolHeavyAtomWeight  \\\n",
       "0      518.590       518.22856          13.64711             486.334   \n",
       "0      612.728       612.21628          13.92564             578.456   \n",
       "0      608.715       608.27551          13.52700             570.411   \n",
       "0      409.574       409.27183          13.65247             374.294   \n",
       "0      626.755       626.23193          13.92789             590.467   \n",
       "..         ...             ...               ...                 ...   \n",
       "0      136.238       136.12520          13.62380             120.110   \n",
       "0      247.362       247.18049          13.74233             224.178   \n",
       "0      339.398       339.12971          13.57592             319.238   \n",
       "0      339.398       339.12971          13.57592             319.238   \n",
       "0      136.238       136.12520          13.62380             120.110   \n",
       "\n",
       "IDs  MolFilterItLogS  MolSLogP  MolQedWeightsMax  MolQedWeightsMean  \\\n",
       "0           -8.66773   3.36140           0.34051            0.30257   \n",
       "0          -10.34632   4.51950           0.17681            0.16216   \n",
       "0          -10.73595   5.32190           0.20623            0.16957   \n",
       "0           -7.31112   0.32744           0.36407            0.38912   \n",
       "0          -10.73188   4.90960           0.16006            0.14537   \n",
       "..               ...       ...               ...                ...   \n",
       "0           -2.22807   3.30890           0.56167            0.51850   \n",
       "0           -3.56328   1.05460           0.84631            0.83057   \n",
       "0           -7.00183   4.30600           0.57244            0.48626   \n",
       "0           -7.00183   4.30600           0.57244            0.48626   \n",
       "0           -2.45864   3.45300           0.47261            0.44731   \n",
       "\n",
       "IDs  MolQedWeightsNone  MolRefractivity  ...       MIC2       MIC3       MIC4  \\\n",
       "0              0.30116         140.2057  ...  39.812619  43.136505  44.143459   \n",
       "0              0.18616         164.7701  ...  44.552448  47.442861  48.301180   \n",
       "0              0.18126         169.0447  ...  40.967700  44.841197  45.696389   \n",
       "0              0.49224         122.6352  ...  33.564521  35.608668  36.502883   \n",
       "0              0.16966         169.3871  ...  44.387231  47.170591  47.997121   \n",
       "..                 ...              ...  ...        ...        ...        ...   \n",
       "0              0.33452          45.9120  ...  20.684836  22.532682  22.765297   \n",
       "0              0.73102          71.9101  ...  28.679867  30.241343  30.358244   \n",
       "0              0.29365         111.2240  ...  21.596046  27.286761  27.712799   \n",
       "0              0.29365         111.2240  ...  21.596046  27.286761  27.712799   \n",
       "0              0.30390          45.9820  ...  20.015692  22.212267  22.687759   \n",
       "\n",
       "IDs       MIC5       ZMIC0      ZMIC1      ZMIC2      ZMIC3      ZMIC4  \\\n",
       "0    44.600573  126.834747  71.949317  40.635939  31.560223  28.057929   \n",
       "0    48.711411  143.027516  84.398941  42.195067  32.072829  29.450057   \n",
       "0    46.081907  149.299234  88.605858  43.297702  31.043007  28.311229   \n",
       "0    36.626945  103.134150  54.133361  35.354460  28.858446  25.704040   \n",
       "0    48.392158  146.867818  84.593561  41.862354  31.917388  29.356801   \n",
       "..         ...         ...        ...        ...        ...        ...   \n",
       "0    22.765297   38.708444  23.134380  21.005689  18.512976  17.782037   \n",
       "0    30.358244   62.547451  34.426508  26.622119  23.243922  22.807809   \n",
       "0    27.712799   81.879149  82.075238  71.190110  55.111483  52.734076   \n",
       "0    27.712799   81.879149  82.075238  71.190110  55.111483  52.734076   \n",
       "0    22.687759   38.708444  25.574475  22.490017  19.273561  17.989763   \n",
       "\n",
       "IDs      ZMIC5  \n",
       "0    27.114093  \n",
       "0    28.571000  \n",
       "0    27.467848  \n",
       "0    24.708412  \n",
       "0    28.499547  \n",
       "..         ...  \n",
       "0    17.782037  \n",
       "0    22.807809  \n",
       "0    52.734076  \n",
       "0    52.734076  \n",
       "0    17.989763  \n",
       "\n",
       "[2018 rows x 1456 columns]"
      ]
     },
     "execution_count": 51,
     "metadata": {},
     "output_type": "execute_result"
    }
   ],
   "source": [
    "inh"
   ]
  },
  {
   "cell_type": "code",
   "execution_count": 52,
   "id": "b80f0655-f760-4b4f-b29a-544c41a991f6",
   "metadata": {},
   "outputs": [],
   "source": [
    "inh.to_csv('origin_inhibitors_MolDs.csv',index=False)"
   ]
  },
  {
   "cell_type": "code",
   "execution_count": 6,
   "id": "e640fa33-c704-4267-b6d8-0d64e34fcd02",
   "metadata": {},
   "outputs": [
    {
     "data": {
      "text/html": [
       "<div>\n",
       "<style scoped>\n",
       "    .dataframe tbody tr th:only-of-type {\n",
       "        vertical-align: middle;\n",
       "    }\n",
       "\n",
       "    .dataframe tbody tr th {\n",
       "        vertical-align: top;\n",
       "    }\n",
       "\n",
       "    .dataframe thead th {\n",
       "        text-align: right;\n",
       "    }\n",
       "</style>\n",
       "<table border=\"1\" class=\"dataframe\">\n",
       "  <thead>\n",
       "    <tr style=\"text-align: right;\">\n",
       "      <th></th>\n",
       "      <th>max</th>\n",
       "      <th>mean</th>\n",
       "      <th>min</th>\n",
       "      <th>median</th>\n",
       "      <th>mode</th>\n",
       "      <th>skewness</th>\n",
       "      <th>std</th>\n",
       "      <th>var</th>\n",
       "    </tr>\n",
       "  </thead>\n",
       "  <tbody>\n",
       "    <tr>\n",
       "      <th>MolWeight</th>\n",
       "      <td>39279.499000</td>\n",
       "      <td>345.465130</td>\n",
       "      <td>39.854000</td>\n",
       "      <td>327.358000</td>\n",
       "      <td>262.353000</td>\n",
       "      <td>10.412105</td>\n",
       "      <td>113.989201</td>\n",
       "      <td>12993.537857</td>\n",
       "    </tr>\n",
       "    <tr>\n",
       "      <th>MolExactWeight</th>\n",
       "      <td>39279.040340</td>\n",
       "      <td>345.013001</td>\n",
       "      <td>40.035850</td>\n",
       "      <td>327.023250</td>\n",
       "      <td>262.168130</td>\n",
       "      <td>10.440812</td>\n",
       "      <td>113.847876</td>\n",
       "      <td>12961.338847</td>\n",
       "    </tr>\n",
       "    <tr>\n",
       "      <th>MolAverageWeight</th>\n",
       "      <td>173.943000</td>\n",
       "      <td>14.684687</td>\n",
       "      <td>5.758140</td>\n",
       "      <td>14.223890</td>\n",
       "      <td>13.808050</td>\n",
       "      <td>3.540793</td>\n",
       "      <td>1.536088</td>\n",
       "      <td>2.359565</td>\n",
       "    </tr>\n",
       "    <tr>\n",
       "      <th>MolHeavyAtomWeight</th>\n",
       "      <td>39271.435000</td>\n",
       "      <td>323.830850</td>\n",
       "      <td>36.033000</td>\n",
       "      <td>307.215000</td>\n",
       "      <td>240.177000</td>\n",
       "      <td>11.146507</td>\n",
       "      <td>107.945537</td>\n",
       "      <td>11652.238940</td>\n",
       "    </tr>\n",
       "    <tr>\n",
       "      <th>MolFilterItLogS</th>\n",
       "      <td>56.610110</td>\n",
       "      <td>-4.480301</td>\n",
       "      <td>-133.289340</td>\n",
       "      <td>-4.293660</td>\n",
       "      <td>-6.610420</td>\n",
       "      <td>-3.301926</td>\n",
       "      <td>2.183427</td>\n",
       "      <td>4.767355</td>\n",
       "    </tr>\n",
       "    <tr>\n",
       "      <th>...</th>\n",
       "      <td>...</td>\n",
       "      <td>...</td>\n",
       "      <td>...</td>\n",
       "      <td>...</td>\n",
       "      <td>...</td>\n",
       "      <td>...</td>\n",
       "      <td>...</td>\n",
       "      <td>...</td>\n",
       "    </tr>\n",
       "    <tr>\n",
       "      <th>ZMIC1</th>\n",
       "      <td>2986.418777</td>\n",
       "      <td>44.808768</td>\n",
       "      <td>9.242356</td>\n",
       "      <td>41.133257</td>\n",
       "      <td>79.459218</td>\n",
       "      <td>8.168882</td>\n",
       "      <td>18.927701</td>\n",
       "      <td>358.257880</td>\n",
       "    </tr>\n",
       "    <tr>\n",
       "      <th>ZMIC2</th>\n",
       "      <td>2827.195179</td>\n",
       "      <td>31.714398</td>\n",
       "      <td>9.242356</td>\n",
       "      <td>29.402934</td>\n",
       "      <td>23.304229</td>\n",
       "      <td>13.626172</td>\n",
       "      <td>13.268866</td>\n",
       "      <td>176.062817</td>\n",
       "    </tr>\n",
       "    <tr>\n",
       "      <th>ZMIC3</th>\n",
       "      <td>2696.929307</td>\n",
       "      <td>27.314436</td>\n",
       "      <td>9.242356</td>\n",
       "      <td>25.788929</td>\n",
       "      <td>22.429229</td>\n",
       "      <td>20.738302</td>\n",
       "      <td>10.141629</td>\n",
       "      <td>102.852635</td>\n",
       "    </tr>\n",
       "    <tr>\n",
       "      <th>ZMIC4</th>\n",
       "      <td>2566.481814</td>\n",
       "      <td>26.320624</td>\n",
       "      <td>9.242356</td>\n",
       "      <td>25.092594</td>\n",
       "      <td>23.179229</td>\n",
       "      <td>26.138732</td>\n",
       "      <td>8.627011</td>\n",
       "      <td>74.425323</td>\n",
       "    </tr>\n",
       "    <tr>\n",
       "      <th>ZMIC5</th>\n",
       "      <td>2436.076432</td>\n",
       "      <td>25.980570</td>\n",
       "      <td>9.242356</td>\n",
       "      <td>24.922218</td>\n",
       "      <td>23.179229</td>\n",
       "      <td>30.830870</td>\n",
       "      <td>7.680780</td>\n",
       "      <td>58.994377</td>\n",
       "    </tr>\n",
       "  </tbody>\n",
       "</table>\n",
       "<p>1344 rows × 8 columns</p>\n",
       "</div>"
      ],
      "text/plain": [
       "                             max        mean         min      median  \\\n",
       "MolWeight           39279.499000  345.465130   39.854000  327.358000   \n",
       "MolExactWeight      39279.040340  345.013001   40.035850  327.023250   \n",
       "MolAverageWeight      173.943000   14.684687    5.758140   14.223890   \n",
       "MolHeavyAtomWeight  39271.435000  323.830850   36.033000  307.215000   \n",
       "MolFilterItLogS        56.610110   -4.480301 -133.289340   -4.293660   \n",
       "...                          ...         ...         ...         ...   \n",
       "ZMIC1                2986.418777   44.808768    9.242356   41.133257   \n",
       "ZMIC2                2827.195179   31.714398    9.242356   29.402934   \n",
       "ZMIC3                2696.929307   27.314436    9.242356   25.788929   \n",
       "ZMIC4                2566.481814   26.320624    9.242356   25.092594   \n",
       "ZMIC5                2436.076432   25.980570    9.242356   24.922218   \n",
       "\n",
       "                          mode   skewness         std           var  \n",
       "MolWeight           262.353000  10.412105  113.989201  12993.537857  \n",
       "MolExactWeight      262.168130  10.440812  113.847876  12961.338847  \n",
       "MolAverageWeight     13.808050   3.540793    1.536088      2.359565  \n",
       "MolHeavyAtomWeight  240.177000  11.146507  107.945537  11652.238940  \n",
       "MolFilterItLogS      -6.610420  -3.301926    2.183427      4.767355  \n",
       "...                        ...        ...         ...           ...  \n",
       "ZMIC1                79.459218   8.168882   18.927701    358.257880  \n",
       "ZMIC2                23.304229  13.626172   13.268866    176.062817  \n",
       "ZMIC3                22.429229  20.738302   10.141629    102.852635  \n",
       "ZMIC4                23.179229  26.138732    8.627011     74.425323  \n",
       "ZMIC5                23.179229  30.830870    7.680780     58.994377  \n",
       "\n",
       "[1344 rows x 8 columns]"
      ]
     },
     "execution_count": 6,
     "metadata": {},
     "output_type": "execute_result"
    }
   ],
   "source": [
    "mp1.scale_info"
   ]
  },
  {
   "cell_type": "code",
   "execution_count": 53,
   "id": "6ee8075b-fad2-450d-935e-d92bdfc6567b",
   "metadata": {
    "scrolled": true,
    "tags": []
   },
   "outputs": [
    {
     "name": "stderr",
     "output_type": "stream",
     "text": [
      " 38%|###8      | 776/2018 [00:42<00:57, 21.63it/s][10:16:54] Explicit valence for atom # 4 O, 3, is greater than permitted\n",
      " 64%|######4   | 1296/2018 [01:07<00:33, 21.86it/s][10:17:19] Explicit valence for atom # 4 O, 3, is greater than permitted\n",
      " 65%|######4   | 1304/2018 [01:07<00:31, 22.66it/s][10:17:19] Explicit valence for atom # 35 O, 3, is greater than permitted\n",
      " 74%|#######3  | 1484/2018 [01:16<00:25, 20.55it/s][10:17:28] Explicit valence for atom # 39 N, 4, is greater than permitted\n",
      " 84%|########3 | 1688/2018 [01:25<00:12, 26.11it/s][10:17:37] Explicit valence for atom # 26 N, 4, is greater than permitted\n",
      "100%|##########| 2018/2018 [01:38<00:00, 20.41it/s]\n"
     ]
    },
    {
     "ename": "FileNotFoundError",
     "evalue": "[Errno 2] No such file or directory: './data/inhibitors.npy'",
     "output_type": "error",
     "traceback": [
      "\u001b[0;31m---------------------------------------------------------------------------\u001b[0m",
      "\u001b[0;31mFileNotFoundError\u001b[0m                         Traceback (most recent call last)",
      "\u001b[0;32m/tmp/ipykernel_154603/1771831523.py\u001b[0m in \u001b[0;36m<module>\u001b[0;34m\u001b[0m\n\u001b[0;32m----> 1\u001b[0;31m \u001b[0mgenerate_map\u001b[0m\u001b[0;34m(\u001b[0m\u001b[0;34m'inhibitors'\u001b[0m\u001b[0;34m)\u001b[0m\u001b[0;34m\u001b[0m\u001b[0;34m\u001b[0m\u001b[0m\n\u001b[0m",
      "\u001b[0;32m/tmp/ipykernel_154603/961524435.py\u001b[0m in \u001b[0;36mgenerate_map\u001b[0;34m(name)\u001b[0m\n\u001b[1;32m      3\u001b[0m     \u001b[0msmi\u001b[0m \u001b[0;34m=\u001b[0m \u001b[0mdf\u001b[0m\u001b[0;34m[\u001b[0m\u001b[0;34m'clean_smiles_pH'\u001b[0m\u001b[0;34m]\u001b[0m\u001b[0;34m\u001b[0m\u001b[0;34m\u001b[0m\u001b[0m\n\u001b[1;32m      4\u001b[0m     \u001b[0mF\u001b[0m \u001b[0;34m=\u001b[0m \u001b[0mmp1\u001b[0m\u001b[0;34m.\u001b[0m\u001b[0mbatch_transform\u001b[0m\u001b[0;34m(\u001b[0m\u001b[0msmi\u001b[0m\u001b[0;34m)\u001b[0m\u001b[0;34m\u001b[0m\u001b[0;34m\u001b[0m\u001b[0m\n\u001b[0;32m----> 5\u001b[0;31m     \u001b[0mnp\u001b[0m\u001b[0;34m.\u001b[0m\u001b[0msave\u001b[0m\u001b[0;34m(\u001b[0m\u001b[0;34m'./data/'\u001b[0m\u001b[0;34m+\u001b[0m\u001b[0mname\u001b[0m\u001b[0;34m+\u001b[0m\u001b[0;34m'.npy'\u001b[0m\u001b[0;34m,\u001b[0m\u001b[0mF\u001b[0m\u001b[0;34m)\u001b[0m\u001b[0;34m\u001b[0m\u001b[0;34m\u001b[0m\u001b[0m\n\u001b[0m",
      "\u001b[0;32m<__array_function__ internals>\u001b[0m in \u001b[0;36msave\u001b[0;34m(*args, **kwargs)\u001b[0m\n",
      "\u001b[0;32m~/miniconda3/envs/molmap/lib/python3.7/site-packages/numpy/lib/npyio.py\u001b[0m in \u001b[0;36msave\u001b[0;34m(file, arr, allow_pickle, fix_imports)\u001b[0m\n\u001b[1;32m    523\u001b[0m         \u001b[0;32mif\u001b[0m \u001b[0;32mnot\u001b[0m \u001b[0mfile\u001b[0m\u001b[0;34m.\u001b[0m\u001b[0mendswith\u001b[0m\u001b[0;34m(\u001b[0m\u001b[0;34m'.npy'\u001b[0m\u001b[0;34m)\u001b[0m\u001b[0;34m:\u001b[0m\u001b[0;34m\u001b[0m\u001b[0;34m\u001b[0m\u001b[0m\n\u001b[1;32m    524\u001b[0m             \u001b[0mfile\u001b[0m \u001b[0;34m=\u001b[0m \u001b[0mfile\u001b[0m \u001b[0;34m+\u001b[0m \u001b[0;34m'.npy'\u001b[0m\u001b[0;34m\u001b[0m\u001b[0;34m\u001b[0m\u001b[0m\n\u001b[0;32m--> 525\u001b[0;31m         \u001b[0mfile_ctx\u001b[0m \u001b[0;34m=\u001b[0m \u001b[0mopen\u001b[0m\u001b[0;34m(\u001b[0m\u001b[0mfile\u001b[0m\u001b[0;34m,\u001b[0m \u001b[0;34m\"wb\"\u001b[0m\u001b[0;34m)\u001b[0m\u001b[0;34m\u001b[0m\u001b[0;34m\u001b[0m\u001b[0m\n\u001b[0m\u001b[1;32m    526\u001b[0m \u001b[0;34m\u001b[0m\u001b[0m\n\u001b[1;32m    527\u001b[0m     \u001b[0;32mwith\u001b[0m \u001b[0mfile_ctx\u001b[0m \u001b[0;32mas\u001b[0m \u001b[0mfid\u001b[0m\u001b[0;34m:\u001b[0m\u001b[0;34m\u001b[0m\u001b[0;34m\u001b[0m\u001b[0m\n",
      "\u001b[0;31mFileNotFoundError\u001b[0m: [Errno 2] No such file or directory: './data/inhibitors.npy'"
     ]
    },
    {
     "name": "stdout",
     "output_type": "stream",
     "text": [
      "error when calculating COC1=C([O-]C)[C@]2(OC)c3c(OC)c(OC)c4c(c3O[C@]32O[C@@H](c2ccccc2)CC=C3C1=O)[C@@H](O)C[C@H](c1ccccc1)O4\n",
      "error when calculating CCCCC1=[NH+]C2(CCCC2)C(=O)N1Cc1ccc(c2ccccc2C2=[N-]N=NN2)cc1\n",
      "error when calculating COC1=C([O-]C)[C@]2(OC)c3c(OC)c(OC)c4c(c3O[C@]32O[C@@H](c2ccccc2)CC=C3C1=O)[C@@H](OC)C[C@H](c1ccccc1)O4\n",
      "error when calculating COc1c2c(c3c(c1OC)[C@@]1(OC)C4=C(C(=O)[C@H](OC)[C@@]1(OC)O3)[C@H](OC)C[C@@H](c1ccccc1)[O-]4)[C@H](O)C[C@@H](c1ccccc1)O2\n",
      "error when calculating nan\n",
      "error when calculating nan\n",
      "error when calculating CCOc1nc2cccc(C(=O)OC(C)OC(=O)OC3CCCCC3)c2n1Cc1ccc(c2ccccc2C2=[N-]N=NN2)cc1\n"
     ]
    }
   ],
   "source": [
    "generate_map('inhibitors')"
   ]
  },
  {
   "cell_type": "code",
   "execution_count": 13,
   "id": "5a30dd65-c757-4c28-8edc-087f2a8d2788",
   "metadata": {},
   "outputs": [],
   "source": [
    "import umap\n",
    "import matplotlib.pyplot as plt\n",
    "import numpy as np\n",
    "umap_reducer = umap.UMAP(n_neighbors=15, n_components=2, random_state=42)"
   ]
  },
  {
   "cell_type": "code",
   "execution_count": 64,
   "id": "e729f748-2ef7-4703-acdd-0eeb1816e25b",
   "metadata": {},
   "outputs": [],
   "source": [
    "inh = np.load('./data/inhibitors.npy').sum(axis=3).reshape(2826,-1)\n",
    "sub = np.load('./data/substrates.npy').sum(axis=3).reshape(2405,-1)\n",
    "exp = np.load('./data/experiment.npy').sum(axis=3).reshape(11,-1)\n",
    "exc = np.load('./data/excipients.npy').sum(axis=3).reshape(41,-1)"
   ]
  },
  {
   "cell_type": "code",
   "execution_count": 139,
   "id": "1846cc58-19e2-476f-98a6-191a7fb7907e",
   "metadata": {},
   "outputs": [],
   "source": [
    "cob = np.concatenate([inh,sub],axis=0)\n",
    "mask0 = (cob != 0).any(axis=-1)\n",
    "cob = cob[mask0]\n",
    "feat = np.std(cob,axis=0)\n",
    "mask_sd = (feat >= 0.1) & (feat <= 200)\n",
    "new_cob = cob[:,mask_sd]"
   ]
  },
  {
   "cell_type": "code",
   "execution_count": 140,
   "id": "89b7ce9c-de60-49b8-88ab-a1d27ccf87c8",
   "metadata": {},
   "outputs": [],
   "source": [
    "# new_cob = cob\n",
    "# mask_sd = np.ones(new_cob.shape[1],dtype=np.bool_)"
   ]
  },
  {
   "cell_type": "code",
   "execution_count": 141,
   "id": "746c760a-7d86-4fdc-98d0-16c0cb29c0dd",
   "metadata": {},
   "outputs": [],
   "source": [
    "corr = np.corrcoef(new_cob.T) > 0.95\n",
    "mask_corr = np.zeros(corr.shape[0],dtype=np.bool_)\n",
    "vis = np.zeros(corr.shape[0],dtype=np.bool_)\n",
    "for i in range(corr.shape[0]):\n",
    "    cur = corr[i,:] | vis\n",
    "    if (not vis[i]):\n",
    "        vis |= cur\n",
    "        mask_corr[i] = True"
   ]
  },
  {
   "cell_type": "code",
   "execution_count": 142,
   "id": "4bc2e3c3-934f-4bf0-a011-520a2d5936e6",
   "metadata": {},
   "outputs": [
    {
     "name": "stdout",
     "output_type": "stream",
     "text": [
      "41 26\n"
     ]
    }
   ],
   "source": [
    "print(sum(mask_sd),sum(mask_corr))"
   ]
  },
  {
   "cell_type": "code",
   "execution_count": 143,
   "id": "732e3fa5-821f-44ac-b68d-7c6c16185c16",
   "metadata": {},
   "outputs": [],
   "source": [
    "ind = np.arange(inh.shape[1],dtype=np.int_)\n",
    "ind = ind[mask_sd][mask_corr]"
   ]
  },
  {
   "cell_type": "code",
   "execution_count": 144,
   "id": "aefd8e61-3c0d-491c-b354-06d4c0c2b804",
   "metadata": {},
   "outputs": [
    {
     "data": {
      "text/plain": [
       "array([ 114,  306,  312,  340,  344,  372,  374,  436,  440,  453,  472,\n",
       "        550,  609,  618,  647,  693,  695,  708,  841,  879,  984, 1017,\n",
       "       1059, 1060, 1174, 1314])"
      ]
     },
     "execution_count": 144,
     "metadata": {},
     "output_type": "execute_result"
    }
   ],
   "source": [
    "ind"
   ]
  },
  {
   "cell_type": "code",
   "execution_count": 80,
   "id": "5cba4e0b-4d3a-456b-9937-58670c59eadf",
   "metadata": {
    "tags": []
   },
   "outputs": [],
   "source": [
    "# import molmap\n",
    "# metric = 'cosine'\n",
    "# method = 'umap'\n",
    "# n_neighbors = 30\n",
    "# min_dist = 0.1\n",
    "# mp_name = './data/test.mp'\n",
    "# mp1 = molmap.MolMap(ftype = 'descriptor', metric = metric, flist = [])\n",
    "# mp1.fit(method = method, n_neighbors = n_neighbors, min_dist = min_dist)\n",
    "# mp1.save(mp_name) ### save it as a featurizer"
   ]
  },
  {
   "cell_type": "code",
   "execution_count": 145,
   "id": "f240ff97-e79f-4585-8bb7-239b5aa1a268",
   "metadata": {},
   "outputs": [],
   "source": [
    "df = mp1.df_embedding\n",
    "df = df.sort_values(by=['indices'])"
   ]
  },
  {
   "cell_type": "code",
   "execution_count": 149,
   "id": "94285804-ecf1-4b71-b40d-7649486b659a",
   "metadata": {
    "scrolled": true,
    "tags": []
   },
   "outputs": [],
   "source": [
    "df.iloc[ind[ind<len(df)]].to_csv('./data/feature_engieering_DNN.csv')"
   ]
  },
  {
   "cell_type": "code",
   "execution_count": 83,
   "id": "24b3ed47-1444-41c7-838f-a7321eb6962c",
   "metadata": {},
   "outputs": [],
   "source": [
    "# from sklearn.neighbors import LocalOutlierFactor, IsolationForest\n",
    "\n",
    "# lof = LocalOutlierFactor(n_neighbors=20, contamination=0.05)\n",
    "# inh_lof = lof.fit_predict(inh)\n",
    "# sub_lof = lof.fit_predict(sub)\n",
    "# iso_forest = IsolationForest(contamination=0.05, random_state=42)\n",
    "# inh_iso = iso_forest.fit_predict(inh)\n",
    "# sub_iso = iso_forest.fit_predict(sub)\n",
    "# inh = inh[[inh_lof[i]!=-1 and inh_iso[i]!=-1 for i in range(inh.shape[0])]]\n",
    "# sub = sub[[sub_lof[i]!=-1 and sub_iso[i]!=-1 for i in range(sub.shape[0])]]"
   ]
  },
  {
   "cell_type": "code",
   "execution_count": 167,
   "id": "ade1d7c4-0232-473b-b560-45206a6f6560",
   "metadata": {},
   "outputs": [],
   "source": [
    "compounds = np.concatenate([\n",
    "    inh[:2000],\n",
    "    sub[:2000],\n",
    "    exp,\n",
    "    exc,],axis=0)"
   ]
  },
  {
   "cell_type": "code",
   "execution_count": 173,
   "id": "d513e435-2494-42b4-aa6e-f3a5122ce5c3",
   "metadata": {},
   "outputs": [],
   "source": [
    "compounds = np.concatenate([\n",
    "    inh[:2000,mask_sd][:,mask_corr],\n",
    "    sub[:2000,mask_sd][:,mask_corr],\n",
    "    exp[:,mask_sd][:,mask_corr],\n",
    "    exc[:,mask_sd][:,mask_corr]],axis=0)"
   ]
  },
  {
   "cell_type": "code",
   "execution_count": null,
   "id": "43667f80-dc6e-4c80-b9d3-93e29e546dc4",
   "metadata": {},
   "outputs": [],
   "source": [
    "# Fit and transform the data\n",
    "umap_embedding = umap_reducer.fit_transform(compounds)"
   ]
  },
  {
   "cell_type": "code",
   "execution_count": null,
   "id": "817525d2-48db-49a8-909b-1284d51c226e",
   "metadata": {},
   "outputs": [],
   "source": [
    "compound_labels =   [0 for _ in range(2000)] + \\\n",
    "                    [0 for _ in range(2000)] + \\\n",
    "                    [2 for _ in range(exp.shape[0])] + \\\n",
    "                    [3 for _ in range(30)] + \\\n",
    "                    [4 for _ in range(6)] + \\\n",
    "                    [5 for _ in range(5)]\n",
    "\n",
    "compound_sizes =     [20 for _ in range(2000)] + \\\n",
    "                    [20 for _ in range(2000)] + \\\n",
    "                    [50 for _ in range(exp.shape[0])] + \\\n",
    "                    [50 for _ in range(exc.shape[0])]"
   ]
  },
  {
   "cell_type": "code",
   "execution_count": null,
   "id": "7bc4c3df-d02b-496b-b61b-51d093fa4c17",
   "metadata": {
    "tags": []
   },
   "outputs": [],
   "source": [
    "# colors = ['inhibitor','substrate','experiment','excipient']\n",
    "# labels = [colors[compound_labels[i]] for i in range(len(compound_labels))]"
   ]
  },
  {
   "cell_type": "code",
   "execution_count": null,
   "id": "0497b7ce-8536-4944-9e5f-05248faadd88",
   "metadata": {},
   "outputs": [],
   "source": [
    "exp_df = pd.read_csv('./data/clean_experiment.csv')\n",
    "exc_df = pd.read_csv('./data/clean_excipients.csv')"
   ]
  },
  {
   "cell_type": "code",
   "execution_count": 171,
   "id": "2f44c83e-8f7e-46e6-9e28-fd2c73c9d1f7",
   "metadata": {},
   "outputs": [
    {
     "data": {
      "image/png": "[encoded data removed]",
      "text/plain": [
       "<Figure size 1000x600 with 2 Axes>"
      ]
     },
     "metadata": {},
     "output_type": "display_data"
    }
   ],
   "source": [
    "plt.figure(figsize=(10, 6))\n",
    "scatter = plt.scatter(\n",
    "    umap_embedding[:, 0], \n",
    "    umap_embedding[:, 1], \n",
    "    c=compound_labels, \n",
    "    cmap='Spectral',\n",
    "    s=compound_sizes,\n",
    ")\n",
    "\n",
    "for i, (x, y) in enumerate(umap_embedding[4000:4000+exp.shape[0]]):\n",
    "    plt.text(x, y, exp_df['names'].tolist()[i], fontsize=10, ha='right')\n",
    "    \n",
    "# for i, (x, y) in enumerate(umap_embedding[4000+exp.shape[0]:]):\n",
    "#     plt.text(x, y, exc_df['Name'].tolist()[i], fontsize=8, ha='right')\n",
    "\n",
    "# plt.title('UMAP Projection of the Iris Dataset', fontsize=16)\n",
    "plt.xlabel('UMAP 1', fontsize=14)\n",
    "plt.ylabel('UMAP 2', fontsize=14)\n",
    "plt.colorbar(scatter, label='Species')\n",
    "# legend_labels = [plt.Line2D([0], [0], marker='o', color='w', markerfacecolor=compound_labels[i], markersize=10) for i in range(len(compound_labels))]\n",
    "# plt.legend(legend_labels, labels, title='Species')\n",
    "plt.show()"
   ]
  },
  {
   "cell_type": "code",
   "execution_count": null,
   "id": "b1938505-32f8-4afe-abcc-f7ab66b50b71",
   "metadata": {},
   "outputs": [],
   "source": [
    "plt.figure(figsize=(10, 6))\n",
    "scatter = plt.scatter(\n",
    "    umap_embedding[:, 0], \n",
    "    umap_embedding[:, 1], \n",
    "    c=compound_labels, \n",
    "    cmap='Spectral',\n",
    "    s=compound_sizes,\n",
    ")\n",
    "\n",
    "for i, (x, y) in enumerate(umap_embedding[4000:4000+exp.shape[0]]):\n",
    "    plt.text(x, y, exp_df['names'].tolist()[i], fontsize=10, ha='right')\n",
    "    \n",
    "# for i, (x, y) in enumerate(umap_embedding[4000+exp.shape[0]:]):\n",
    "#     plt.text(x, y, exc_df['Name'].tolist()[i], fontsize=8, ha='right')\n",
    "\n",
    "# plt.title('UMAP Projection of the Iris Dataset', fontsize=16)\n",
    "plt.xlabel('UMAP 1', fontsize=14)\n",
    "plt.ylabel('UMAP 2', fontsize=14)\n",
    "plt.colorbar(scatter, label='Species')\n",
    "# legend_labels = [plt.Line2D([0], [0], marker='o', color='w', markerfacecolor=compound_labels[i], markersize=10) for i in range(len(compound_labels))]\n",
    "# plt.legend(legend_labels, labels, title='Species')\n",
    "plt.show()"
   ]
  },
  {
   "cell_type": "code",
   "execution_count": null,
   "id": "fc1b4db1-d971-475a-ae64-73cf4c1fa76a",
   "metadata": {},
   "outputs": [],
   "source": []
  }
 ],
 "metadata": {
  "kernelspec": {
   "display_name": "molmap",
   "language": "python",
   "name": "molmap"
  },
  "language_info": {
   "codemirror_mode": {
    "name": "ipython",
    "version": 3
   },
   "file_extension": ".py",
   "mimetype": "text/x-python",
   "name": "python",
   "nbconvert_exporter": "python",
   "pygments_lexer": "ipython3",
   "version": "3.7.12"
  }
 },
 "nbformat": 4,
 "nbformat_minor": 5
}
