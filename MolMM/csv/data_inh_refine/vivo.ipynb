{
 "cells": [
  {
   "cell_type": "code",
   "execution_count": 1,
   "id": "97fa950a-c9d0-41e9-9c9a-468a77f942e2",
   "metadata": {},
   "outputs": [],
   "source": [
    "from molmap import loadmap\n",
    "\n",
    "import matplotlib.pyplot as plt\n",
    "import matplotlib.patches as mpatches\n",
    "import seaborn as sns\n",
    "from rdkit import Chem\n",
    "from rdkit.Chem.Draw import IPythonConsole\n",
    "#IPythonConsole.ipython_useSVG = True\n",
    "import numpy as np\n",
    "import pandas as pd\n",
    "from tqdm import tqdm\n",
    "from collections import defaultdict"
   ]
  },
  {
   "cell_type": "code",
   "execution_count": 2,
   "id": "9f6bfa6e-e0b1-4302-91fa-d844f849e9d1",
   "metadata": {},
   "outputs": [],
   "source": [
    "def sort_dict(x):\n",
    "    return {k: v for k, v in sorted(x.items(), key=lambda item: item[1], reverse=True)}\n",
    "\n",
    "def count_place(inh, parameter):\n",
    "    count = {}\n",
    "    for s in inh[parameter].unique():\n",
    "        count[s] = sum(inh[parameter]==s)\n",
    "    count = sort_dict(count)\n",
    "    return count\n",
    "\n",
    "from molmap import loadmap\n",
    "\n",
    "import matplotlib.pyplot as plt\n",
    "import matplotlib.patches as mpatches\n",
    "import seaborn as sns\n",
    "\n",
    "from rdkit import Chem\n",
    "from rdkit.Chem import Draw\n",
    "from rdkit.Chem.Draw import IPythonConsole\n",
    "from rdkit.Chem.MolStandardize import rdMolStandardize\n",
    "from rdkit import RDLogger\n",
    "#IPythonConsole.ipython_useSVG = True\n",
    "import numpy as np\n",
    "import pandas as pd\n",
    "from tqdm import tqdm\n",
    "from openbabel import pybel\n",
    "RDLogger.DisableLog('rdApp.*')\n",
    "def clean_and_standardize(smiles,ph=7.4,iso=False):\n",
    "    try:\n",
    "        # Convert SMILES to RDKit molecule\n",
    "        mol = Chem.MolFromSmiles(smiles)\n",
    "        \n",
    "        # Skip invalid molecules\n",
    "        if mol is None:\n",
    "            return None,None\n",
    "\n",
    "        # Canonicalize the SMILES\n",
    "        # canonical_smiles = Chem.MolToSmiles(mol, isomericSmiles=True, canonical=True)\n",
    "\n",
    "        # Remove salts and other fragments / Keep only the largest fragment\n",
    "        fragments = Chem.GetMolFrags(mol, asMols=True)\n",
    "        largest_fragment = max(fragments, default=None, key=lambda m: m.GetNumAtoms())\n",
    "        if largest_fragment is None:\n",
    "            return None,None\n",
    "        \n",
    "        u = rdMolStandardize.Uncharger()\n",
    "        uncharge_mol = u.uncharge(largest_fragment)\n",
    "        uncharge_smiles = Chem.MolToSmiles(uncharge_mol, isomericSmiles=iso, canonical=True)\n",
    "        \n",
    "        ob_mol = pybel.readstring(\"smi\", Chem.MolToSmiles(largest_fragment, isomericSmiles=iso, canonical=True))\n",
    "        \n",
    "        ob_mol.OBMol.AddHydrogens(False, True, ph)\n",
    "\n",
    "        # Convert back to SMILES\n",
    "        adjusted_smiles = ob_mol.write(\"smi\").strip()\n",
    "\n",
    "        return adjusted_smiles, uncharge_smiles\n",
    "    \n",
    "    except Exception as e:\n",
    "        print(f\"Error processing SMILES {smiles}: {e}\")\n",
    "        return None,None"
   ]
  },
  {
   "cell_type": "code",
   "execution_count": 3,
   "id": "b32a0caa-645b-4247-8d4e-f611ec2fab74",
   "metadata": {},
   "outputs": [],
   "source": [
    "df = pd.read_csv('./source/invivo.csv',encoding='utf-8')\n",
    "# df = df[~(df['drug'].isna()) | ~(df['structure'].isna())]\n",
    "# df = df[~df['value'].isna()]"
   ]
  },
  {
   "cell_type": "code",
   "execution_count": 4,
   "id": "ba7c16d6-061f-4813-80e6-d9bcc9240465",
   "metadata": {},
   "outputs": [
    {
     "data": {
      "text/plain": [
       "Index(['_id', 'drug', 'structure', 'transporter', 'species', 'geneName',\n",
       "       'geneId', 'type', 'place', 'method', 'experimentalSystem', 'dose',\n",
       "       'route', 'substanceMeasured', 'concomitant', 'time', 'comment',\n",
       "       'parameterType', 'parameter', 'value', 'units', 'reference', 'source',\n",
       "       'sourceLink', 'year', 'TransporterInfo_id', 'fullname',\n",
       "       'structurelink'],\n",
       "      dtype='object')"
      ]
     },
     "execution_count": 4,
     "metadata": {},
     "output_type": "execute_result"
    }
   ],
   "source": [
    "df.columns"
   ]
  },
  {
   "cell_type": "code",
   "execution_count": 5,
   "id": "fdcdc4a3-07bd-4614-8fa5-a1ab87f66a01",
   "metadata": {},
   "outputs": [
    {
     "data": {
      "text/plain": [
       "201"
      ]
     },
     "execution_count": 5,
     "metadata": {},
     "output_type": "execute_result"
    }
   ],
   "source": [
    "len(df)"
   ]
  },
  {
   "cell_type": "code",
   "execution_count": 6,
   "id": "aadda125-ede4-4cef-a313-8e6081d2f297",
   "metadata": {},
   "outputs": [],
   "source": [
    "df = df.dropna(subset=['method','place','geneName','type','structure','value','parameter','substanceMeasured','experimentalSystem'])"
   ]
  },
  {
   "cell_type": "code",
   "execution_count": 7,
   "id": "89b8351b-b294-48a4-871a-ab11ebda1bc3",
   "metadata": {},
   "outputs": [],
   "source": [
    "refine = ['drug','place','experimentalSystem','substanceMeasured','concomitant','value','reference','sourceLink']"
   ]
  },
  {
   "cell_type": "code",
   "execution_count": 8,
   "id": "fc14d7b0-0578-4529-9966-c6039c2cf440",
   "metadata": {},
   "outputs": [],
   "source": [
    "# inh = df[df['type'] == 'Inhibitor'][refine]\n",
    "# sub = df[df['type'] == 'Substrate'][refine]\n",
    "inh = df[df['type'] == 'Inhibitor']\n",
    "inh=inh[inh['parameter']!='AUC change']\n",
    "sub = df[df['type'] == 'Substrate']"
   ]
  },
  {
   "cell_type": "code",
   "execution_count": 9,
   "id": "d806050d-3cc0-4d1a-b4e8-c7fad8d2ea70",
   "metadata": {
    "tags": []
   },
   "outputs": [
    {
     "data": {
      "text/plain": [
       "{'In Vivo': 200}"
      ]
     },
     "execution_count": 9,
     "metadata": {},
     "output_type": "execute_result"
    }
   ],
   "source": [
    "count_place(inh,'method')"
   ]
  },
  {
   "cell_type": "code",
   "execution_count": 10,
   "id": "39175313-fe8e-4cd3-b7f9-c09de9131341",
   "metadata": {},
   "outputs": [
    {
     "data": {
      "text/plain": [
       "{'ABCB1': 200}"
      ]
     },
     "execution_count": 10,
     "metadata": {},
     "output_type": "execute_result"
    }
   ],
   "source": [
    "count_place(inh,'geneName')"
   ]
  },
  {
   "cell_type": "code",
   "execution_count": 11,
   "id": "9b6e3bba-d15a-4408-993d-a715ed58f266",
   "metadata": {},
   "outputs": [
    {
     "data": {
      "text/plain": [
       "(200, 67)"
      ]
     },
     "execution_count": 11,
     "metadata": {},
     "output_type": "execute_result"
    }
   ],
   "source": [
    "inh['clean_smiles_pH'] = [ clean_and_standardize(s)[1] for s in inh['structure'] ]\n",
    "len(inh),len(inh.drop_duplicates(subset=['clean_smiles_pH']))"
   ]
  },
  {
   "cell_type": "code",
   "execution_count": 12,
   "id": "e2a86c2f-a540-47c0-8c15-3d9d70b8255c",
   "metadata": {},
   "outputs": [
    {
     "data": {
      "text/plain": [
       "{'AUC increase': 95, 'AUC ratio': 82, 'AUC decrease': 23}"
      ]
     },
     "execution_count": 12,
     "metadata": {},
     "output_type": "execute_result"
    }
   ],
   "source": [
    "count_place(inh,'parameter')"
   ]
  },
  {
   "cell_type": "code",
   "execution_count": 13,
   "id": "7368ad78-ecb7-4659-9f92-bcc3b7ee2510",
   "metadata": {},
   "outputs": [],
   "source": [
    "import re\n",
    "def string2value(inh_cell_fda):\n",
    "    l=[]\n",
    "    print('origin:',len(inh_cell_fda))\n",
    "    for s in inh_cell_fda['value']:\n",
    "        l.append(re.findall(r\"(?:\\d*\\.*\\d+)\", s))\n",
    "\n",
    "    for i in range(len(l)):\n",
    "        t = l[i]\n",
    "        for j in range(len(t)):\n",
    "            t[j] = float(t[j])\n",
    "\n",
    "        if (len(t)==0):\n",
    "            l[i]=None\n",
    "            continue\n",
    "            \n",
    "        if (len(t)==1):\n",
    "            total = float(t[0])\n",
    "        elif (len(t)==2):\n",
    "            total = sum([float(s) for s in t])/2\n",
    "            \n",
    "        if total < 1e-5 or total > 1000:\n",
    "            total=None\n",
    "\n",
    "        l[i]=total\n",
    "    \n",
    "    l = np.array(l)\n",
    "    inh_cell_fda['value_num']=l\n",
    "            \n",
    "    inh_cell_fda=inh_cell_fda.dropna(subset=['value_num'])\n",
    "    \n",
    "    print('process:',len(inh_cell_fda))\n",
    "    return inh_cell_fda"
   ]
  },
  {
   "cell_type": "code",
   "execution_count": 14,
   "id": "4b2d8f73-6003-4f36-b339-5221e8cd2408",
   "metadata": {},
   "outputs": [
    {
     "name": "stdout",
     "output_type": "stream",
     "text": [
      "origin: 200\n",
      "process: 200\n"
     ]
    }
   ],
   "source": [
    "inh=string2value(inh)"
   ]
  },
  {
   "cell_type": "code",
   "execution_count": 15,
   "id": "fa33e605-45dd-4436-9495-a530d6ee0c10",
   "metadata": {},
   "outputs": [
    {
     "data": {
      "text/plain": [
       "{'%': 136, 'fold': 63, 'dimensionless': 1}"
      ]
     },
     "execution_count": 15,
     "metadata": {},
     "output_type": "execute_result"
    }
   ],
   "source": [
    "count_place(inh,'units')"
   ]
  },
  {
   "cell_type": "code",
   "execution_count": 16,
   "id": "bc7ea02c-aec7-4ee1-893c-51438d242f7c",
   "metadata": {},
   "outputs": [],
   "source": [
    "def reset_df(inh):\n",
    "    inh_cell_fda=string2value(inh)\n",
    "    inh_cell_fda = inh_cell_fda[inh_cell_fda['geneName']!='abcb4']\n",
    "    len(inh_cell_fda),len(inh_cell_fda.drop_duplicates(subset=['clean_smiles_pH']))\n",
    "    \n",
    "    data = []\n",
    "    value = []\n",
    "    for (s,v) in zip(inh_cell_fda['units'],inh_cell_fda['value_num']):\n",
    "        if ('%' in s):\n",
    "            value.append(v/100)\n",
    "        else:\n",
    "            value.append(v)\n",
    "        data.append('fold')\n",
    "    inh_cell_fda['units'] = data\n",
    "    inh_cell_fda['value_num'] = value\n",
    "\n",
    "    data = []\n",
    "    unit = []\n",
    "    value = []\n",
    "    for (s,v) in zip(inh_cell_fda['parameter'],inh_cell_fda['value_num']):\n",
    "        if ('ratio' in s):\n",
    "            value.append(v)\n",
    "        elif 'increase' in s:\n",
    "            value.append(1.0+v)\n",
    "        else:\n",
    "            value.append(1.0-v)\n",
    "        data.append('ratio')\n",
    "    inh_cell_fda['parameter'] = data\n",
    "    inh_cell_fda['value_num'] = value\n",
    "\n",
    "    print(len(inh_cell_fda),count_place(inh_cell_fda,'parameter'))\n",
    "        \n",
    "    return inh_cell_fda,None"
   ]
  },
  {
   "cell_type": "code",
   "execution_count": 17,
   "id": "d35dcc4b-4646-4d6c-bacc-44d3b1f779d1",
   "metadata": {},
   "outputs": [],
   "source": [
    "from scipy import stats"
   ]
  },
  {
   "cell_type": "code",
   "execution_count": 18,
   "id": "5ac95d51-f513-412f-b291-cd824a2f535d",
   "metadata": {
    "scrolled": true,
    "tags": []
   },
   "outputs": [
    {
     "name": "stdout",
     "output_type": "stream",
     "text": [
      "origin: 200\n",
      "process: 200\n",
      "200 {'ratio': 200}\n",
      "\n",
      "Ramelteon 0.97 +- 0.0\n",
      "Eslicarbazepine Acetate 0.96 +- 0.0\n",
      "Diroximel Fumarate 0.9 +- 0.0\n",
      "Bosentan 0.925 +- 0.078\n",
      "Prasugrel Hydrochloride 0.87 +- 0.0\n",
      "Paroxetine Mesylate 0.85 +- 0.0\n",
      "Tegaserod Maleate 0.85 +- 0.0\n",
      "Obeticholic Acid 1.01 +- 0.0\n",
      "Empagliflozin 1.06 +- 0.0\n",
      "Saxagliptin Hydrochloride 1.06 +- 0.0\n",
      "Edoxaban Tosylate 1.07 +- 0.0\n",
      "Cobicistat 1.077 +- 0.0\n",
      "Pexidartinib Hydrochloride 1.09 +- 0.0\n",
      "Venetoclax 1.09 +- 0.0\n",
      "Pantoprazole Sodium 1.104 +- 0.0\n",
      "Gatifloxacin 1.306 +- 0.256\n",
      "Sitagliptin Phosphate 1.11 +- 0.0\n",
      "Zanubrutinib 1.113 +- 0.0\n",
      "Lurasidone Hydrochloride 1.253 +- 0.174\n",
      "Carvedilol 1.157 +- 0.024\n",
      "Atorvastatin Calcium 1.15 +- 0.0\n",
      "Nefazodone Hydrochloride 1.15 +- 0.0\n",
      "Entrectinib 1.18 +- 0.0\n",
      "Rabeprazole Sodium 1.19 +- 0.0\n",
      "Canagliflozin 1.199 +- 0.002\n",
      "Tolvaptan 1.208 +- 0.039\n",
      "Istradefylline 1.21 +- 0.0\n",
      "Flibanserin 1.762 +- 0.292\n",
      "Isavuconazonium Sulfate 1.25 +- 0.0\n",
      "Mirabegron 1.27 +- 0.0\n",
      "Suvorexant 1.27 +- 0.0\n",
      "Mibefradil 1.3 +- 0.0\n",
      "Rolapitant Hydrochloride 1.3 +- 0.0\n",
      "Neratinib Maleate 1.324 +- 0.01\n",
      "Quinine Sulfate 1.33 +- 0.0\n",
      "Eliglustat Tartrate 1.459 +- 0.051\n",
      "Fostamatinib disodium 1.37 +- 0.0\n",
      "Conivaptan Hydrochloride 1.43 +- 0.0\n",
      "Darunavir Ethanolate 1.608 +- 0.004\n",
      "Ritonavir 1.86 +- 0.0\n",
      "Dronedarone Hydrochloride 2.488 +- 0.063\n",
      "Vandetanib 1.955 +- 0.725\n",
      "Gemifloxacin Mesylate 1.615 +- 0.0\n",
      "Idelalisib 1.07 +- 0.099\n",
      "Dabigatran Etexilate Mesylate 1.01 +- 0.0\n",
      "Azilsartan Kamedoxomil 1.029 +- 0.0\n",
      "Sarecycline Hydrochloride 1.032 +- 0.0\n",
      "Vorapaxar Sulfate 1.05 +- 0.0\n",
      "Telaprevir 1.898 +- 0.072\n",
      "Rucaparib Camsylate 1.2 +- 0.0\n",
      "Letermovir 0.88 +- 0.0\n",
      "Ticlopidine Hydrochloride 0.914 +- 0.0\n",
      "Aprepitant 0.96 +- 0.03\n",
      "Silodosin 0.984 +- 0.0\n",
      "Dapagliflozin Propanediol 1.0 +- 0.0\n",
      "Lefamulin Acetate 1.083 +- 0.048\n",
      "Linagliptin 1.01 +- 0.0\n",
      "Roflumilast 1.01 +- 0.0\n",
      "Lacosamide 1.024 +- 0.0\n",
      "Fidaxomicin 1.098 +- 0.018\n",
      "Daclatasvir Dihydrochloride 1.27 +- 0.0\n",
      "Simeprevir Sodium 1.39 +- 0.0\n",
      "Tucatinib 1.5 +- 0.0\n",
      "Lapatinib Ditosylate 2.8 +- 0.0\n",
      "Alogliptin Benzoate 1.0 +- 0.0\n",
      "Valbenazine Tosylate 1.4 +- 0.0\n",
      "Vemurafenib 1.8 +- 0.0\n"
     ]
    }
   ],
   "source": [
    "inh_cell_fda,_=reset_df(inh)\n",
    "data=defaultdict(list)\n",
    "smi_dict=defaultdict(str)\n",
    "for i in range(len(inh_cell_fda)):\n",
    "    exp = inh_cell_fda.iloc[i]['drug']\n",
    "    smi = inh_cell_fda.iloc[i]['clean_smiles_pH']\n",
    "    sub = inh_cell_fda.iloc[i]['substanceMeasured']\n",
    "    # val_o = inh_cell_fda.iloc[i]['value']\n",
    "    val = inh_cell_fda.iloc[i]['value_num']\n",
    "\n",
    "    data[smi+'_'+sub].append(val)\n",
    "    smi_dict[smi+'_'+sub]=exp\n",
    "print()\n",
    "\n",
    "for k,v in data.items():\n",
    "    print(smi_dict[k],round(np.array(v).mean(),3),'+-',round(np.array(v).std(),3))"
   ]
  },
  {
   "cell_type": "code",
   "execution_count": 19,
   "id": "4ea0f6c1-f9fd-4308-8433-7edc8f79f50c",
   "metadata": {},
   "outputs": [
    {
     "name": "stdout",
     "output_type": "stream",
     "text": [
      "origin: 200\n",
      "process: 200\n",
      "200 {'ratio': 200}\n",
      "\n",
      "Digoxin\n",
      "\n"
     ]
    }
   ],
   "source": [
    "inh_cell_fda,_=reset_df(inh)\n",
    "print()\n",
    "for keys in inh_cell_fda['substanceMeasured'].unique():\n",
    "    data=defaultdict(list)\n",
    "    flag=[]\n",
    "    smi_dict=defaultdict(str)\n",
    "    print(keys)\n",
    "    for i in range(len(inh_cell_fda)):\n",
    "        exp = inh_cell_fda.iloc[i]['drug']\n",
    "        smi = inh_cell_fda.iloc[i]['clean_smiles_pH']\n",
    "        sub = inh_cell_fda.iloc[i]['substanceMeasured']\n",
    "        val_o = inh_cell_fda.iloc[i]['value']\n",
    "        val = inh_cell_fda.iloc[i]['value_num']\n",
    "\n",
    "        if ((keys == sub) and (\n",
    "            'cein' in exp or\n",
    "            'goxin' in exp or\n",
    "            'damine' in exp or\n",
    "            'blastine' in exp or\n",
    "            'chst' in exp or\n",
    "            'phine' in exp or\n",
    "            'icine' in exp or\n",
    "            'chst' in exp or\n",
    "            'taxel' in exp or\n",
    "            'bicin' in exp ) \n",
    "        ):\n",
    "            # print(exp,val)\n",
    "            flag.append(True)\n",
    "            data[smi+'_'+sub].append(val)\n",
    "            smi_dict[smi+'_'+sub]=exp\n",
    "            # data.append(val)\n",
    "        else:\n",
    "            flag.append(False)\n",
    "    \n",
    "    test_list=[]\n",
    "    for k,v in data.items():\n",
    "        # if len(v)>1:\n",
    "        #     test_list.append(v)\n",
    "        p_value_max=round(stats.ttest_1samp(v, np.array(v).max())[1],3)\n",
    "        p_value_min=round(stats.ttest_1samp(v, np.array(v).min())[1],3)\n",
    "        print(smi_dict[k],k.split('_')[1],len(v),v,(round(np.array(v).mean(),3),round(np.array(v).std(),3)))\n",
    "        # print((np.array(v).min(),np.array(v).max(),p_value_min,p_value_max))\n",
    "    # if len(test_list)>1:\n",
    "    #     print('mean',round(np.array([ s for t in test_list for s in t ]).mean(),3),'p_value',stats.f_oneway(*test_list)[1])\n",
    "    print()"
   ]
  },
  {
   "cell_type": "code",
   "execution_count": 20,
   "id": "ce78f5a9-16da-46f1-a6c7-50befb3c9a42",
   "metadata": {},
   "outputs": [
    {
     "name": "stdout",
     "output_type": "stream",
     "text": [
      "origin: 200\n",
      "process: 200\n",
      "200 {'ratio': 200}\n"
     ]
    }
   ],
   "source": [
    "inh_cell_fda,_=reset_df(inh)\n",
    "data=defaultdict(list)\n",
    "flag=[]\n",
    "smi_dict=defaultdict(str)\n",
    "for i in range(len(inh_cell_fda)):\n",
    "    exp = inh_cell_fda.iloc[i]['drug']\n",
    "    smi = inh_cell_fda.iloc[i]['clean_smiles_pH']\n",
    "    sub = inh_cell_fda.iloc[i]['substanceMeasured']\n",
    "    val_o = inh_cell_fda.iloc[i]['value']\n",
    "    \n",
    "    val = inh_cell_fda.iloc[i]['value_num']\n",
    "    if (\n",
    "        (\n",
    "        ('Vinblast' in exp and\n",
    "        'No' not in exp))\n",
    "    ):\n",
    "        flag.append(True)\n",
    "        if val>2:\n",
    "            data[smi+'_'+sub].append(val)\n",
    "        smi_dict[smi+'_'+sub]=exp\n",
    "    else:\n",
    "        flag.append(False)\n",
    "for k,v in data.items():\n",
    "    print(smi_dict[k],k.split('_')[1],v,(round(np.array(v).mean(),3),round(np.array(v).std(),3)))"
   ]
  },
  {
   "cell_type": "code",
   "execution_count": 21,
   "id": "af01ce87-a3cb-43ee-8615-e00b77cfb73c",
   "metadata": {},
   "outputs": [
    {
     "name": "stdout",
     "output_type": "stream",
     "text": [
      "origin: 200\n",
      "process: 200\n",
      "200 {'ratio': 200}\n",
      "Pexidartinib Hydrochloride Digoxin [1.09, 1.09] 1.09 1.09\n"
     ]
    }
   ],
   "source": [
    "inh_cell_fda,_=reset_df(inh)\n",
    "data=defaultdict(list)\n",
    "flag=[]\n",
    "smi_dict=defaultdict(str)\n",
    "for i in range(len(inh_cell_fda)):\n",
    "    exp = inh_cell_fda.iloc[i]['drug']\n",
    "    smi = inh_cell_fda.iloc[i]['clean_smiles_pH']\n",
    "    sub = inh_cell_fda.iloc[i]['substanceMeasured']\n",
    "    val = inh_cell_fda.iloc[i]['value_num']\n",
    "    \n",
    "    if (\n",
    "        'qudar' in exp or\n",
    "        'idar' in exp\n",
    "    ):\n",
    "        # print(exp,val)\n",
    "        flag.append(True)\n",
    "        data[smi+'_'+sub].append(val)\n",
    "        smi_dict[smi+'_'+sub]=exp\n",
    "        # data.append(val)\n",
    "    else:\n",
    "        flag.append(False)\n",
    "for k,v in data.items():\n",
    "    print(smi_dict[k],k.split('_')[1],v,min(v),max(v))"
   ]
  },
  {
   "cell_type": "code",
   "execution_count": 22,
   "id": "de9d497e-7949-4692-bf3c-0893e7a2d529",
   "metadata": {},
   "outputs": [],
   "source": [
    "def test_v1(data_dict,dropna=True,strict=True):\n",
    "    from scipy.stats import chisquare,multinomial\n",
    "    val_list = []\n",
    "    for smi in data_dict.keys():\n",
    "        \n",
    "        temp = np.array(data_dict[smi])\n",
    "        total=len(temp)\n",
    "        \n",
    "        results=np.zeros(3)\n",
    "        for l in range(3):\n",
    "            results[l]=sum(temp==l)\n",
    "        \n",
    "        observed=np.zeros(2)\n",
    "        observed[0]=sum(temp<=1)\n",
    "        observed[1]=sum(temp==2)\n",
    "        \n",
    "        if strict:\n",
    "            if results[results.argmax()]==total:\n",
    "                val_list.append(results.argmax())\n",
    "            else:\n",
    "                val_list.append(None)\n",
    "        else:\n",
    "            if observed[observed.argmax()]==total:\n",
    "                val_list.append(results.argmax())\n",
    "            else:\n",
    "                val_list.append(None)\n",
    "    if dropna:\n",
    "        return [(k,v) for k,v in zip(data_dict.keys(),val_list) if v is not None]\n",
    "    else:\n",
    "        return [(k,v) for k,v in zip(data_dict.keys(),val_list) ]\n",
    "    "
   ]
  },
  {
   "cell_type": "code",
   "execution_count": 23,
   "id": "eb4d4dfb-4807-4e0d-a0b7-3f79cad11748",
   "metadata": {
    "tags": []
   },
   "outputs": [],
   "source": [
    "# <tho High; tho<=;<=tho1; moderate; >tho2 Low\n",
    "def process_df(inh,cutoff=1.25):\n",
    "    inh_cell_fda,_=reset_df(inh)\n",
    "    flag_list = []\n",
    "    data_list = []\n",
    "    #2.0\n",
    "    tho2 = cutoff\n",
    "    tho3 = 1.25\n",
    "    l=np.array(inh_cell_fda['value_num'].tolist())\n",
    "    for i in range(len(inh_cell_fda)):\n",
    "        data = inh_cell_fda.iloc[i]\n",
    "        param,val,unit = data['parameter'],data['value'],data['units']\n",
    "\n",
    "        eps = 1e-6\n",
    "\n",
    "        if ('<' in val and l[i] < tho2):\n",
    "            data_list.append(0)\n",
    "        elif ('>' in val and l[i] >= tho3):\n",
    "            data_list.append(2)\n",
    "        elif ('>' in val or '<' in val):\n",
    "            data_list.append(None)\n",
    "        elif l[i]<tho2:\n",
    "            data_list.append(0)\n",
    "        elif l[i]>=tho2 and l[i]<tho3:\n",
    "            data_list.append(1)\n",
    "        else:\n",
    "            data_list.append(2)\n",
    "\n",
    "    inh_cell_fda['origin'] = inh_cell_fda['value']\n",
    "    inh_cell_fda['value'] = data_list\n",
    "    inh_cell_fda=inh_cell_fda.dropna(subset=['value'])\n",
    "    print('process:',len(inh_cell_fda))\n",
    "    \n",
    "    return inh_cell_fda\n",
    "\n",
    "def pre_merge_df(inh_cell_fda,inh_cell_fda1):\n",
    "    print('origin:',len(inh_cell_fda))\n",
    "    inh_cell_fda['clean_smiles_pH'] = [ clean_and_standardize(s)[1] for s in inh_cell_fda['structure'] ]\n",
    "    data_dict = defaultdict(list)\n",
    "    smiles_dict = defaultdict(list)\n",
    "    \n",
    "    data_dict0 = defaultdict(list)\n",
    "    for i in range(len(inh_cell_fda)):\n",
    "        data = inh_cell_fda.iloc[i]\n",
    "        smiles = data['clean_smiles_pH']\n",
    "        smiles_dict[smiles].append(data['drug'])\n",
    "        sub = data['substanceMeasured']\n",
    "        exp = data['experimentalSystem']\n",
    "        param,val,unit = data['parameter'],data['value'],data['units']\n",
    "        data_dict0['_'.join([smiles,sub,exp])].append(val)\n",
    "    \n",
    "    for k,v in test_v1(data_dict0):\n",
    "        data_dict[k].append(v)\n",
    "    \n",
    "    data_dict1 = defaultdict(list)\n",
    "    for i in range(len(inh_cell_fda1)):\n",
    "        data = inh_cell_fda1.iloc[i]\n",
    "        smiles = data['clean_smiles_pH']\n",
    "        smiles_dict[smiles].append(data['drug'])\n",
    "        sub = data['substanceMeasured']\n",
    "        exp = data['experimentalSystem']\n",
    "        param,val,unit = data['parameter'],data['value'],data['units']\n",
    "        data_dict1['_'.join([smiles,sub,exp])].append(val)\n",
    "        \n",
    "    for k,v in test_v1(data_dict1):\n",
    "        data_dict[k].append(v)\n",
    "        \n",
    "    val_list = []\n",
    "    for smi in data_dict.keys():\n",
    "        temp = np.array(data_dict[smi])\n",
    "        val_list.append(temp[-1])\n",
    "\n",
    "    keys = list(data_dict.keys())\n",
    "    drug = []\n",
    "    subs = []\n",
    "    exps = []\n",
    "    smiles = []\n",
    "    for key in keys:\n",
    "        smi,sub,exp = key.split('_')\n",
    "        subs.append(sub)\n",
    "        exps.append(exp)\n",
    "        drug.append(smiles_dict[smi][0])\n",
    "        smiles.append(smi)\n",
    "    df_process = pd.DataFrame({'drug':drug,'smiles':smiles,'sub':subs,'exp':exps,'label':val_list})\n",
    "    print('process:',len(df_process))\n",
    "    return df_process\n",
    "\n",
    "def merge_df(inh_cell_fda):\n",
    "    print('origin:',len(inh_cell_fda))\n",
    "    data_dict = defaultdict(list)\n",
    "    smiles_dict = defaultdict(list)\n",
    "    for i in range(len(inh_cell_fda)):\n",
    "        data = inh_cell_fda.iloc[i]\n",
    "        smiles,sub,exp,val = data['smiles'],data['sub'],data['exp'],data['label']\n",
    "        smiles_dict[smiles].append(data['drug'])\n",
    "        data_dict['_'.join([smiles,sub])].append(val)\n",
    "\n",
    "    # merge different cell's data\n",
    "    val_list = []\n",
    "    for k,v in test_v1(data_dict,dropna=False,strict=False):\n",
    "        val_list.append(v)\n",
    "\n",
    "    keys = list(data_dict.keys())\n",
    "    drug = []\n",
    "    subs = []\n",
    "    smiles = []\n",
    "    for key in keys:\n",
    "        smi,sub = key.split('_')\n",
    "        subs.append(sub)\n",
    "        drug.append(smiles_dict[smi][0])\n",
    "        smiles.append(smi)\n",
    "    df_process = pd.DataFrame({'drug':drug,'smiles':smiles,'sub':subs,'label':val_list}).dropna()\n",
    "\n",
    "    data_dict = defaultdict(list)\n",
    "    smiles_dict = defaultdict(list)\n",
    "    for i in range(len(inh_cell_fda)):\n",
    "        data = inh_cell_fda.iloc[i]\n",
    "        smiles,sub,val = data['smiles'],data['sub'],data['label']\n",
    "        smiles_dict[smiles].append(data['drug'])\n",
    "        data_dict[smiles].append(val)\n",
    "\n",
    "    # val_list = []\n",
    "    # for k,v in chisquare_fun(data_dict,dropna=False):\n",
    "    #     val_list.append(v)\n",
    "    \n",
    "    # merge different sub's data\n",
    "    val_list = []\n",
    "    for k,v in test_v1(data_dict,dropna=False,strict=False):\n",
    "        val_list.append(v)\n",
    "\n",
    "    smiles = list(data_dict.keys())\n",
    "    drug = [ smiles_dict[smi][0] for smi in smiles ]\n",
    "    df_process = pd.DataFrame({'drug':drug,'smiles':smiles,'label':val_list}).dropna()\n",
    "    print('process:',len(df_process))\n",
    "    return df_process\n",
    "\n",
    "def check_df(inh_cell_fda):\n",
    "    for keys in inh_cell_fda['sub'].unique():\n",
    "        data=defaultdict(list)\n",
    "        flag=[]\n",
    "        smi_dict=defaultdict(str)\n",
    "        print(keys)\n",
    "        for i in range(len(inh_cell_fda)):\n",
    "            exp = inh_cell_fda.iloc[i]['drug']\n",
    "            smi = inh_cell_fda.iloc[i]['smiles']\n",
    "            sub = inh_cell_fda.iloc[i]['sub']\n",
    "            val = inh_cell_fda.iloc[i]['label']\n",
    "\n",
    "            if ((keys == sub) and (\n",
    "                'cein' in exp or\n",
    "                'goxin' in exp or\n",
    "                'damine' in exp or\n",
    "                'blastine' in exp or\n",
    "                'chst' in exp or\n",
    "                'phine' in exp or\n",
    "                'icine' in exp or\n",
    "                'chst' in exp or\n",
    "                'taxel' in exp or\n",
    "                'bicin' in exp ) \n",
    "            ):\n",
    "                # print(exp,val)\n",
    "                flag.append(True)\n",
    "                data[smi+'_'+sub].append(val)\n",
    "                smi_dict[smi+'_'+sub]=exp\n",
    "                # data.append(val)\n",
    "            else:\n",
    "                flag.append(False)\n",
    "\n",
    "        test_list=[]\n",
    "        for k,v in data.items():\n",
    "            p_value_max=round(stats.ttest_1samp(v, np.array(v).max())[1],3)\n",
    "            p_value_min=round(stats.ttest_1samp(v, np.array(v).min())[1],3)\n",
    "            print(smi_dict[k],k.split('_')[1],len(v),v)\n",
    "        print()\n",
    "        \n",
    "# df_vivo = df_vivo[df_vivo['label']]\n",
    "def calc_confict(df_process,df_vivo):\n",
    "    data_dict = defaultdict(list)\n",
    "    smiles_dict = defaultdict(list)\n",
    "    for i in range(len(df_process)):\n",
    "        data = df_process.iloc[i]\n",
    "        smiles = data['smiles']\n",
    "        smiles_dict[smiles].append(data['drug'])\n",
    "        val = data['label']\n",
    "        data_dict[smiles].append(val)\n",
    "\n",
    "    for i in range(len(df_vivo)):\n",
    "        data = df_vivo.iloc[i]\n",
    "        smiles = data['smiles']\n",
    "        smiles_dict[smiles].append(data['drug'])\n",
    "        val = data['label']\n",
    "        data_dict[smiles].append(val)\n",
    "\n",
    "    count=defaultdict(list)\n",
    "    for v in data_dict.values():\n",
    "        if len(v)==2:\n",
    "            count[v[1]].append(v[0]!=v[1])\n",
    "            \n",
    "    val_list=[]\n",
    "    for v in data_dict.values():\n",
    "        val_list.append(v[-1])\n",
    "        \n",
    "    smiles = list(data_dict.keys())\n",
    "    drug = [ smiles_dict[smi][0] for smi in smiles ]\n",
    "    temp = pd.DataFrame({'drug':drug,'smiles':smiles,'label':val_list}).dropna()\n",
    "\n",
    "    total=[]\n",
    "    for k,v in count.items():\n",
    "        print('label:',k)\n",
    "        if len(v)>0:\n",
    "            print(sum(v),len(v),sum(v)/len(v))\n",
    "        total.append(sum(v)/len(v))\n",
    "    if len(total)>0:\n",
    "        print('total')\n",
    "        print(total,sum(total)/2)\n",
    "        \n",
    "    return temp"
   ]
  },
  {
   "cell_type": "code",
   "execution_count": 24,
   "id": "07a4dde2-ce3e-446b-b581-433e85919c2d",
   "metadata": {},
   "outputs": [],
   "source": [
    "from copy import deepcopy"
   ]
  },
  {
   "cell_type": "code",
   "execution_count": 25,
   "id": "cc0d54fb-5c4e-4289-a2de-1cd1612b0a89",
   "metadata": {},
   "outputs": [
    {
     "name": "stdout",
     "output_type": "stream",
     "text": [
      "origin: 200\n",
      "process: 200\n",
      "200 {'ratio': 200}\n",
      "process: 199\n",
      "limit {2.0: 78, 0.0: 75, 1.0: 46}\n",
      "\n",
      "origin: 199\n",
      "process: 63\n",
      "pre_merge {0: 32, 2: 22, 1: 9}\n",
      "\n",
      "Digoxin\n",
      "\n",
      "origin: 63\n",
      "process: 63\n",
      "merge {0: 32, 2: 22, 1: 9}\n",
      "merge_binary {False: 32, True: 22}\n",
      "merge_binary_test {False: 41, True: 22}\n"
     ]
    }
   ],
   "source": [
    "# 0.85-1.25; 1.25-\n",
    "# 0.85-1.125; 1.125-1.25; 1.25-\n",
    "inh_cell_fda1=process_df(inh,1.25-0.125)\n",
    "print('limit',count_place(inh_cell_fda1,'value'))\n",
    "print()\n",
    "inh_cell_fda=pre_merge_df(inh_cell_fda1,inh_cell_fda1)\n",
    "print('pre_merge',count_place(inh_cell_fda,'label'))\n",
    "print()\n",
    "check_df(inh_cell_fda)\n",
    "\n",
    "# 1: inh\n",
    "# 2: potential non-inh\n",
    "# 3: non_inh\n",
    "inh_cell_fda=merge_df(inh_cell_fda)\n",
    "print('merge',count_place(inh_cell_fda,'label'))\n",
    "inh_cell_fda_test=deepcopy(inh_cell_fda)\n",
    "inh_cell_fda_test['label']=[ True if s==2 else (False if s==0 else False) for s in inh_cell_fda['label'].tolist()]\n",
    "inh_cell_fda['label']=[ True if s==2 else (False if s==0 else None) for s in inh_cell_fda['label'].tolist()]\n",
    "inh_cell_fda_test=inh_cell_fda_test.dropna()\n",
    "inh_cell_fda=inh_cell_fda.dropna()\n",
    "\n",
    "print('merge_binary',count_place(inh_cell_fda,'label'))\n",
    "print('merge_binary_test',count_place(inh_cell_fda_test,'label'))"
   ]
  },
  {
   "cell_type": "code",
   "execution_count": 26,
   "id": "34d31e5d-0a61-4cf2-a02e-600ba7345815",
   "metadata": {},
   "outputs": [],
   "source": [
    "inh_cell_fda.to_csv('inhibitors_vivo.csv',index=False)\n",
    "inh_cell_fda_test.to_csv('inhibitors_vivo_test.csv',index=False)"
   ]
  },
  {
   "cell_type": "code",
   "execution_count": null,
   "id": "8905561e-2dc6-4fd8-b24f-cd8fc2615f9b",
   "metadata": {},
   "outputs": [],
   "source": []
  }
 ],
 "metadata": {
  "kernelspec": {
   "display_name": "Python 3 (ipykernel)",
   "language": "python",
   "name": "python3"
  },
  "language_info": {
   "codemirror_mode": {
    "name": "ipython",
    "version": 3
   },
   "file_extension": ".py",
   "mimetype": "text/x-python",
   "name": "python",
   "nbconvert_exporter": "python",
   "pygments_lexer": "ipython3",
   "version": "3.10.13"
  }
 },
 "nbformat": 4,
 "nbformat_minor": 5
}
