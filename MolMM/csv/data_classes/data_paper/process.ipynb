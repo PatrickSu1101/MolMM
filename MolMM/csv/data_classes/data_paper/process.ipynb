{
 "cells": [
  {
   "cell_type": "code",
   "execution_count": 1,
   "id": "3700cb0a-7252-47e7-a342-9a5abec6b099",
   "metadata": {},
   "outputs": [],
   "source": [
    "import pandas as pd\n",
    "import numpy as np\n",
    "from collections import defaultdict"
   ]
  },
  {
   "cell_type": "code",
   "execution_count": 2,
   "id": "d9193096-231e-4b44-8d8f-129aab70f895",
   "metadata": {},
   "outputs": [],
   "source": [
    "import matplotlib.pyplot as plt\n",
    "import matplotlib.patches as mpatches\n",
    "import seaborn as sns\n",
    "\n",
    "from rdkit import Chem\n",
    "from rdkit.Chem import Draw\n",
    "from rdkit.Chem.Draw import IPythonConsole\n",
    "from rdkit.Chem.MolStandardize import rdMolStandardize\n",
    "from rdkit import RDLogger\n",
    "#IPythonConsole.ipython_useSVG = True\n",
    "import numpy as np\n",
    "import pandas as pd\n",
    "from tqdm import tqdm\n",
    "from openbabel import pybel\n",
    "RDLogger.DisableLog('rdApp.*')\n",
    "def clean_and_standardize(smiles,ph=7.4,iso=False):\n",
    "    try:\n",
    "        # Convert SMILES to RDKit molecule\n",
    "        mol = Chem.MolFromSmiles(smiles)\n",
    "        \n",
    "        # Skip invalid molecules\n",
    "        if mol is None:\n",
    "            return None,None\n",
    "\n",
    "        # Canonicalize the SMILES\n",
    "        # canonical_smiles = Chem.MolToSmiles(mol, isomericSmiles=True, canonical=True)\n",
    "\n",
    "        # Remove salts and other fragments / Keep only the largest fragment\n",
    "        fragments = Chem.GetMolFrags(mol, asMols=True)\n",
    "        largest_fragment = max(fragments, default=None, key=lambda m: m.GetNumAtoms())\n",
    "        if largest_fragment is None:\n",
    "            return None,None\n",
    "        \n",
    "        u = rdMolStandardize.Uncharger()\n",
    "        uncharge_mol = u.uncharge(largest_fragment)\n",
    "        uncharge_smiles = Chem.MolToSmiles(uncharge_mol, isomericSmiles=iso, canonical=True)\n",
    "        \n",
    "        ob_mol = pybel.readstring(\"smi\", Chem.MolToSmiles(largest_fragment, isomericSmiles=iso, canonical=True))\n",
    "        \n",
    "        ob_mol.OBMol.AddHydrogens(False, True, ph)\n",
    "\n",
    "        # Convert back to SMILES\n",
    "        adjusted_smiles = ob_mol.write(\"smi\").strip()\n",
    "\n",
    "        return adjusted_smiles, uncharge_smiles\n",
    "    \n",
    "    except Exception as e:\n",
    "        print(f\"Error processing SMILES {smiles}: {e}\")\n",
    "        return None,None"
   ]
  },
  {
   "cell_type": "code",
   "execution_count": 3,
   "id": "99f6e57f-0133-434e-a880-8c88072bb5ce",
   "metadata": {},
   "outputs": [],
   "source": [
    "def sort_dict(x):\n",
    "    return {k: v for k, v in sorted(x.items(), key=lambda item: item[1], reverse=True)}\n",
    "\n",
    "def count_place(inh, parameter):\n",
    "    count = {}\n",
    "    for s in inh[parameter].unique():\n",
    "        count[s] = sum(inh[parameter]==s)\n",
    "    count = sort_dict(count)\n",
    "    return count"
   ]
  },
  {
   "cell_type": "code",
   "execution_count": 4,
   "id": "00600b93-de35-4c0d-b221-15750a80e68b",
   "metadata": {},
   "outputs": [],
   "source": [
    "df = pd.read_csv('./source/S1.csv')"
   ]
  },
  {
   "cell_type": "code",
   "execution_count": 5,
   "id": "84b9354e-4b61-496f-8594-5e878193e549",
   "metadata": {},
   "outputs": [],
   "source": [
    "df = df[['Name','Smiles','Class']].dropna()"
   ]
  },
  {
   "cell_type": "code",
   "execution_count": 6,
   "id": "fada29d4-2564-4bf2-8da9-8a7c7a762411",
   "metadata": {},
   "outputs": [
    {
     "data": {
      "text/plain": [
       "{'Pgp_Inhibitor': 1178,\n",
       " 'Pgp_nonInhibitor': 787,\n",
       " 'substrate': 477,\n",
       " 'non_substrate': 70}"
      ]
     },
     "execution_count": 6,
     "metadata": {},
     "output_type": "execute_result"
    }
   ],
   "source": [
    "count_place(df,'Class')"
   ]
  },
  {
   "cell_type": "code",
   "execution_count": 7,
   "id": "f881a2d0-6061-4eb3-a4c4-218e0287fe78",
   "metadata": {},
   "outputs": [],
   "source": [
    "df['clean_smiles_pH'] = [ clean_and_standardize(smi)[1] for smi in df['Smiles'] ]"
   ]
  },
  {
   "cell_type": "code",
   "execution_count": 8,
   "id": "ae49f17e-21fb-42f0-a244-c14de29982c4",
   "metadata": {},
   "outputs": [],
   "source": [
    "inh_dict = defaultdict(list)\n",
    "sub_dict = defaultdict(list)\n",
    "inh_ndx=[]\n",
    "sub_ndx=[]\n",
    "for i in range(len(df)):\n",
    "    data = df.iloc[i]\n",
    "    if (data['Class'] in ['Pgp_Inhibitor','Pgp_nonInhibitor']):\n",
    "        inh_dict[data['clean_smiles_pH']].append(data['Class'])\n",
    "        inh_ndx.append(i)\n",
    "    else:\n",
    "        sub_dict[data['clean_smiles_pH']].append(data['Class'])\n",
    "        sub_ndx.append(i)"
   ]
  },
  {
   "cell_type": "code",
   "execution_count": 9,
   "id": "f39fd155-b58c-49de-aa94-186a9bca6b4c",
   "metadata": {},
   "outputs": [
    {
     "data": {
      "text/plain": [
       "(1965, 547)"
      ]
     },
     "execution_count": 9,
     "metadata": {},
     "output_type": "execute_result"
    }
   ],
   "source": [
    "len(inh_ndx),len(sub_ndx)"
   ]
  },
  {
   "cell_type": "code",
   "execution_count": 10,
   "id": "d3ab9031-d2dd-49ae-ac7e-a3c31c82964e",
   "metadata": {},
   "outputs": [],
   "source": [
    "from collections import defaultdict\n",
    "name_dict = defaultdict(set)\n",
    "for i in range(len(df)):\n",
    "    data = df.iloc[i]\n",
    "    name = data['Name']\n",
    "    smiles = data['clean_smiles_pH']\n",
    "    name_dict[smiles].add(name)"
   ]
  },
  {
   "cell_type": "code",
   "execution_count": 11,
   "id": "f6c45740-690f-4a06-9775-8f9e5ac1e296",
   "metadata": {},
   "outputs": [],
   "source": [
    "inh = []\n",
    "sub = []\n",
    "for drug in inh_dict.keys():\n",
    "    inh_list = inh_dict[drug]\n",
    "    inh_label = (np.array(inh_list)=='Pgp_Inhibitor').all()\n",
    "    if ((np.array(inh_list)=='Pgp_Inhibitor').all() != (np.array(inh_list)=='Pgp_Inhibitor').any()):\n",
    "        inh.append(None)\n",
    "    else:\n",
    "        inh.append(inh_label)\n",
    "        \n",
    "for drug in sub_dict.keys():\n",
    "    sub_list = sub_dict[drug]\n",
    "    sub_label = (np.array(sub_list)=='substrate').all()\n",
    "    if ((np.array(sub_list)=='substrate').all() != (np.array(sub_list)=='substrate').any()):\n",
    "        sub.append(None)\n",
    "    else:\n",
    "        sub.append(sub_label)\n",
    "    # print(drug,inh_label,sub_label)"
   ]
  },
  {
   "cell_type": "code",
   "execution_count": 12,
   "id": "65bd37b0-687f-41f5-88cd-690a1b50aab6",
   "metadata": {},
   "outputs": [],
   "source": [
    "df_inh = pd.DataFrame({\n",
    "    'drug':[ list(name_dict[s])[0] for s in inh_dict.keys() ],\n",
    "    'smiles':list(inh_dict.keys()),\n",
    "    'label':inh,\n",
    "}).dropna(subset=['smiles','label'])"
   ]
  },
  {
   "cell_type": "code",
   "execution_count": 13,
   "id": "c27604d2-0c47-4edd-aab2-1dfec0f64553",
   "metadata": {},
   "outputs": [],
   "source": [
    "df_sub = pd.DataFrame({\n",
    "    'drug':[ list(name_dict[s])[0] for s in sub_dict.keys() ],\n",
    "    'smiles':list(sub_dict.keys()),\n",
    "    'label':sub,\n",
    "}).dropna(subset=['smiles','label'])"
   ]
  },
  {
   "cell_type": "code",
   "execution_count": 14,
   "id": "579cefa2-2f6e-4cea-8285-5befbbd9697b",
   "metadata": {},
   "outputs": [
    {
     "data": {
      "text/plain": [
       "(1918, {True: 1169, False: 749})"
      ]
     },
     "execution_count": 14,
     "metadata": {},
     "output_type": "execute_result"
    }
   ],
   "source": [
    "len(df_inh),count_place(df_inh,'label')"
   ]
  },
  {
   "cell_type": "code",
   "execution_count": 15,
   "id": "9c16681b-e88d-442c-b0f9-d3c2dadb55e0",
   "metadata": {},
   "outputs": [
    {
     "data": {
      "text/plain": [
       "(521, {True: 451, False: 70})"
      ]
     },
     "execution_count": 15,
     "metadata": {},
     "output_type": "execute_result"
    }
   ],
   "source": [
    "len(df_sub),count_place(df_sub,'label')"
   ]
  },
  {
   "cell_type": "code",
   "execution_count": 16,
   "id": "72708eeb-b0bd-4af8-abaf-9c2725913e18",
   "metadata": {},
   "outputs": [],
   "source": [
    "df_inh.to_csv('inhibitors_multiclass.csv',index=False)"
   ]
  },
  {
   "cell_type": "code",
   "execution_count": 17,
   "id": "998a7944-0484-41be-983f-00144c2164a0",
   "metadata": {},
   "outputs": [],
   "source": [
    "df_sub.to_csv('substrates_multiclass.csv',index=False)"
   ]
  },
  {
   "cell_type": "code",
   "execution_count": null,
   "id": "d30b13fc-9044-4a68-bc21-26d93e9caf32",
   "metadata": {},
   "outputs": [],
   "source": []
  },
  {
   "cell_type": "code",
   "execution_count": 18,
   "id": "05f16c5b-f3b3-4c9f-ad91-6aaa16b482c2",
   "metadata": {},
   "outputs": [],
   "source": [
    "name_dict = defaultdict(set)\n",
    "df = pd.read_csv('./source/export.csv')\n",
    "for i in range(len(df)):\n",
    "    data = df.iloc[i]\n",
    "    did = data['cmpd_id']\n",
    "    smiles = data['smiles']\n",
    "    name_dict[did].add(smiles)"
   ]
  },
  {
   "cell_type": "code",
   "execution_count": 19,
   "id": "4f16b44f-f09d-472a-be58-f3658a2428a1",
   "metadata": {},
   "outputs": [],
   "source": [
    "df = pd.read_csv('./source/export_1.csv')"
   ]
  },
  {
   "cell_type": "code",
   "execution_count": 20,
   "id": "fbb00cf1-90a8-43ef-b3f4-497234b9907b",
   "metadata": {},
   "outputs": [],
   "source": [
    "df = df[df['protein_id']=='mbtp000001']"
   ]
  },
  {
   "cell_type": "code",
   "execution_count": 21,
   "id": "47aa502d-ef29-49a9-8ae3-783bf10c863f",
   "metadata": {},
   "outputs": [],
   "source": [
    "df = df[\n",
    "    np.array([ s in ['substrate','inhibitor','non-inhibitor','non-substrate'] for s in df['action_type']])\n",
    "]"
   ]
  },
  {
   "cell_type": "code",
   "execution_count": 22,
   "id": "a8f85d57-2585-4290-8afb-46ba6c912925",
   "metadata": {
    "scrolled": true
   },
   "outputs": [
    {
     "name": "stdout",
     "output_type": "stream",
     "text": [
      "Error processing SMILES OC(=O)C[N]12CC[N]3(CC(O)=O)CC[N]4(CC(O)=O)CC[N](CC(O)=O)(CC1)[Eu]234: Failed to convert 'O=C(O)CN12->[Eu]34<-N(CC(=O)O)(CC1)CCN->3(CC(=O)O)CCN->4(CC(=O)O)CC2' to format 'smi'\n",
      "Error processing SMILES NC(=O)C[N]12CC[N]3(CC(N)=O)CC[N]4(CC(N)=O)CC[N](CC(N)=O)(CC1)[Eu]234: Failed to convert 'NC(=O)CN12->[Eu]34<-N(CC(N)=O)(CC1)CCN->3(CC(N)=O)CCN->4(CC(N)=O)CC2' to format 'smi'\n",
      "Error processing SMILES OC(=C)C[N]1(CC(O)=O)CC[N]2(CC(O)=O)CC[N](CC(O)=O)(CC(O)=O)[Eu]12: Failed to convert 'C=C(O)CN1(CCN2(CCN(CC(=O)O)(CC(=O)O)->[Eu]<-2<-1)CC(=O)O)CC(=O)O' to format 'smi'\n",
      "Error processing SMILES CNC(=O)C[N]1(CC(O)=C)CC[N]2(CC(O)=O)CC[N](CC(O)=O)(CC(=O)NC)[Eu]12: Failed to convert 'C=C(O)CN1(CCN2(CCN(CC(=O)O)(CC(=O)NC)->[Eu]<-2<-1)CC(=O)O)CC(=O)NC' to format 'smi'\n",
      "Error processing SMILES CCCCNC(=O)C[N]1(CC(O)=C)CC[N]2(CC(O)=O)CC[N](CC(O)=O)(CC(=O)NCCCC)[Eu]12: Failed to convert 'C=C(O)CN1(CCN2(CCN(CC(=O)O)(CC(=O)NCCCC)->[Eu]<-2<-1)CC(=O)O)CC(=O)NCCCC' to format 'smi'\n"
     ]
    },
    {
     "name": "stderr",
     "output_type": "stream",
     "text": [
      "==============================\n",
      "*** Open Babel Error  in ParseSimple\n",
      "  SMILES string contains a character '<' which is invalid\n",
      "==============================\n",
      "*** Open Babel Error  in ParseSimple\n",
      "  SMILES string contains a character '<' which is invalid\n",
      "==============================\n",
      "*** Open Babel Error  in ParseSimple\n",
      "  SMILES string contains a character '<' which is invalid\n",
      "==============================\n",
      "*** Open Babel Error  in ParseSimple\n",
      "  SMILES string contains a character '<' which is invalid\n",
      "==============================\n",
      "*** Open Babel Error  in ParseSimple\n",
      "  SMILES string contains a character '<' which is invalid\n"
     ]
    }
   ],
   "source": [
    "df['smiles'] = [ list(name_dict[s])[0] for s in df['cmpd_id'] ]\n",
    "df=df.dropna(subset=['smiles'])\n",
    "df['clean_smiles_pH'] = [ clean_and_standardize(smi)[1] for smi in df['smiles'] ]\n",
    "df = df.dropna(subset=['smiles','clean_smiles_pH'])"
   ]
  },
  {
   "cell_type": "code",
   "execution_count": 23,
   "id": "d75b4f07-99a7-4529-ae10-d3f9e83cf8d7",
   "metadata": {},
   "outputs": [],
   "source": [
    "inh_dict = defaultdict(list)\n",
    "sub_dict = defaultdict(list)\n",
    "key_set = set()\n",
    "inh_ndx=[]\n",
    "sub_ndx=[]\n",
    "for i in range(len(df)):\n",
    "    data = df.iloc[i]\n",
    "    key_set.add(data['clean_smiles_pH'])\n",
    "    if (data['action_type'] in ['inhibitor','non-inhibitor']):\n",
    "        inh_ndx.append(i)\n",
    "        inh_dict[data['clean_smiles_pH']].append(data['action_type'])\n",
    "    else:\n",
    "        sub_ndx.append(i)\n",
    "        sub_dict[data['clean_smiles_pH']].append(data['action_type'])"
   ]
  },
  {
   "cell_type": "code",
   "execution_count": 24,
   "id": "7a3fab9e-b976-4142-b22b-d4831416754c",
   "metadata": {},
   "outputs": [
    {
     "data": {
      "text/plain": [
       "(875, 1452)"
      ]
     },
     "execution_count": 24,
     "metadata": {},
     "output_type": "execute_result"
    }
   ],
   "source": [
    "len(inh_ndx),len(sub_ndx)"
   ]
  },
  {
   "cell_type": "code",
   "execution_count": 25,
   "id": "f10adc72-ecd5-42b9-a4dd-bafe79ee607c",
   "metadata": {},
   "outputs": [],
   "source": [
    "drugs = list(key_set)\n",
    "drug_list = []\n",
    "inh = []\n",
    "sub = []\n",
    "for drug in drugs:\n",
    "    try:\n",
    "        inh_list = inh_dict[drug]\n",
    "        inh_label = (np.array(inh_list)=='inhibitor').all()\n",
    "        if ((np.array(inh_list)=='inhibitor').all() != (np.array(inh_list)=='inhibitor').any()):\n",
    "            inh_label = None\n",
    "    except:\n",
    "        inh_label = None\n",
    "    \n",
    "    try:\n",
    "        sub_list = sub_dict[drug]\n",
    "        sub_label = (np.array(sub_list)=='substrate').all()\n",
    "        if ((np.array(sub_list)=='substrate').all() != (np.array(sub_list)=='substrate').any()):\n",
    "            sub_label = None\n",
    "    except:\n",
    "        sub_label = None\n",
    "    \n",
    "    drug_list.append(drug)\n",
    "    inh.append(inh_label)\n",
    "    sub.append(sub_label)"
   ]
  },
  {
   "cell_type": "code",
   "execution_count": 26,
   "id": "736b65ef-4b24-4117-950a-97433b00e016",
   "metadata": {},
   "outputs": [],
   "source": [
    "df_inh = pd.DataFrame({\n",
    "    'smiles':drug_list,\n",
    "    'label':inh,\n",
    "}).dropna()\n",
    "\n",
    "df_sub = pd.DataFrame({\n",
    "    'smiles':drug_list,\n",
    "    'label':sub,\n",
    "}).dropna()"
   ]
  },
  {
   "cell_type": "code",
   "execution_count": 27,
   "id": "a92bccef-9f03-4f1e-8829-a693108e55f9",
   "metadata": {},
   "outputs": [
    {
     "data": {
      "text/plain": [
       "(333, {True: 259, False: 74})"
      ]
     },
     "execution_count": 27,
     "metadata": {},
     "output_type": "execute_result"
    }
   ],
   "source": [
    "len(df_inh),count_place(df_inh,'label')"
   ]
  },
  {
   "cell_type": "code",
   "execution_count": 28,
   "id": "aca5100c-baf2-4d70-8ec9-4f56b4e13176",
   "metadata": {},
   "outputs": [
    {
     "data": {
      "text/plain": [
       "(899, {True: 489, False: 410})"
      ]
     },
     "execution_count": 28,
     "metadata": {},
     "output_type": "execute_result"
    }
   ],
   "source": [
    "len(df_sub),count_place(df_sub,'label')"
   ]
  },
  {
   "cell_type": "code",
   "execution_count": 29,
   "id": "85b4e39a-9dbd-44c7-9437-7d3dede211bf",
   "metadata": {},
   "outputs": [],
   "source": [
    "df_inh.to_csv('inhibitors_metra.csv',index=False)"
   ]
  },
  {
   "cell_type": "code",
   "execution_count": 30,
   "id": "7ec59ee7-8b6e-4861-8740-618cb9cddf1f",
   "metadata": {},
   "outputs": [],
   "source": [
    "df_sub.to_csv('substrates_metra.csv',index=False)"
   ]
  },
  {
   "cell_type": "code",
   "execution_count": null,
   "id": "3c09d5bb-c615-433a-aa84-53262c31ef9e",
   "metadata": {},
   "outputs": [],
   "source": []
  },
  {
   "cell_type": "code",
   "execution_count": 31,
   "id": "50fbb725-7e6c-4e7d-8fd7-ebebfd4a5e2b",
   "metadata": {},
   "outputs": [],
   "source": [
    "df = pd.read_csv('./source/inhibitor_main.csv')"
   ]
  },
  {
   "cell_type": "code",
   "execution_count": 32,
   "id": "b9f8d92a-6571-4be0-b0cf-46dd5e3e6a27",
   "metadata": {},
   "outputs": [],
   "source": [
    "df['clean_smiles_pH'] = [ clean_and_standardize(smi)[1] for smi in df['SMILES'] ]"
   ]
  },
  {
   "cell_type": "code",
   "execution_count": 33,
   "id": "e4f49d2d-615d-4b60-86d3-1bbce5a39524",
   "metadata": {},
   "outputs": [],
   "source": [
    "inh_dict = defaultdict(list)\n",
    "for i in range(len(df)):\n",
    "    data = df.iloc[i]\n",
    "    inh_dict[data['clean_smiles_pH']].append(data['Class'])"
   ]
  },
  {
   "cell_type": "code",
   "execution_count": 34,
   "id": "194ee9f4-f65e-4b91-b63c-97692b4e3fbb",
   "metadata": {},
   "outputs": [],
   "source": [
    "drug_list = []\n",
    "inh = []\n",
    "for drug in inh_dict.keys():\n",
    "    try:\n",
    "        inh_list = inh_dict[drug]\n",
    "        inh_label = (np.array(inh_list)=='inhibitor').all()\n",
    "        if ((np.array(inh_list)=='inhibitor').all() != (np.array(inh_list)=='inhibitor').any()):\n",
    "            inh_label = None\n",
    "    except:\n",
    "        inh_label = None\n",
    "    \n",
    "    drug_list.append(drug)\n",
    "    inh.append(inh_label)\n",
    "    \n",
    "df_inh = pd.DataFrame({\n",
    "    'smiles':drug_list,\n",
    "    'label':inh,\n",
    "})\n",
    "df_inh=df_inh.dropna()"
   ]
  },
  {
   "cell_type": "code",
   "execution_count": 35,
   "id": "9a2da629-973c-40ac-8e96-562012d20133",
   "metadata": {},
   "outputs": [
    {
     "data": {
      "text/plain": [
       "(2247, {True: 1389, False: 858})"
      ]
     },
     "execution_count": 35,
     "metadata": {},
     "output_type": "execute_result"
    }
   ],
   "source": [
    "len(df_inh),count_place(df_inh,'label')"
   ]
  },
  {
   "cell_type": "code",
   "execution_count": 36,
   "id": "c871b39d-10c9-4065-b6b7-9dc47dd0e747",
   "metadata": {},
   "outputs": [],
   "source": [
    "df_inh.to_csv('inhibitors_main.csv',index=False)"
   ]
  },
  {
   "cell_type": "code",
   "execution_count": null,
   "id": "7647466b-6ab4-4901-8bdf-be5fc28bfed9",
   "metadata": {},
   "outputs": [],
   "source": []
  },
  {
   "cell_type": "code",
   "execution_count": 37,
   "id": "0b3bd56c-7f18-4e41-b2e2-608156492fe6",
   "metadata": {},
   "outputs": [],
   "source": [
    "df_main = pd.read_csv('inhibitors_main.csv')\n",
    "df_metra = pd.read_csv('inhibitors_metra.csv')\n",
    "df_multiclass = pd.read_csv('inhibitors_multiclass.csv')"
   ]
  },
  {
   "cell_type": "code",
   "execution_count": 38,
   "id": "3445ef82-1646-4539-82a5-a165bd1c91e2",
   "metadata": {},
   "outputs": [
    {
     "data": {
      "text/plain": [
       "(Index(['smiles', 'label'], dtype='object'),\n",
       " Index(['smiles', 'label'], dtype='object'),\n",
       " Index(['drug', 'smiles', 'label'], dtype='object'))"
      ]
     },
     "execution_count": 38,
     "metadata": {},
     "output_type": "execute_result"
    }
   ],
   "source": [
    "df_main.columns,df_metra.columns,df_multiclass.columns"
   ]
  },
  {
   "cell_type": "code",
   "execution_count": 39,
   "id": "2052fd3a-d005-4fd1-9376-d9c6169a0744",
   "metadata": {},
   "outputs": [],
   "source": [
    "df = pd.concat([df_main,df_metra,df_multiclass],axis=0)[['smiles','label']]"
   ]
  },
  {
   "cell_type": "code",
   "execution_count": 40,
   "id": "e53f6c16-454b-44d7-a94a-a6adc49db293",
   "metadata": {},
   "outputs": [],
   "source": [
    "inh_dict = defaultdict(list)\n",
    "for i in range(len(df)):\n",
    "    data = df.iloc[i]\n",
    "    inh_dict[data['smiles']].append(data['label'])"
   ]
  },
  {
   "cell_type": "code",
   "execution_count": 41,
   "id": "41b03b99-25de-4b4f-8652-2d4d2333c907",
   "metadata": {},
   "outputs": [],
   "source": [
    "inh = []\n",
    "for drug in inh_dict.keys():\n",
    "    try:\n",
    "        inh_list = inh_dict[drug]\n",
    "        inh_label = np.array(inh_list).all()\n",
    "        if (np.array(inh_list).all() != np.array(inh_list).any()):\n",
    "            inh_label = None\n",
    "    except:\n",
    "        inh_label = None\n",
    "    \n",
    "    inh.append(inh_label)\n",
    "    \n",
    "df_inh = pd.DataFrame({\n",
    "    'smiles':list(inh_dict.keys()),\n",
    "    'label':inh,\n",
    "})"
   ]
  },
  {
   "cell_type": "code",
   "execution_count": 42,
   "id": "e15a7f3d-a1f4-40a6-93f8-d7ea37dd8173",
   "metadata": {},
   "outputs": [],
   "source": [
    "df_inh = df_inh.dropna()"
   ]
  },
  {
   "cell_type": "code",
   "execution_count": 43,
   "id": "ad794d0a-c04d-4a77-9946-2595e02d3b81",
   "metadata": {},
   "outputs": [
    {
     "data": {
      "text/plain": [
       "(2416, {True: 1538, False: 878})"
      ]
     },
     "execution_count": 43,
     "metadata": {},
     "output_type": "execute_result"
    }
   ],
   "source": [
    "len(df_inh),count_place(df_inh,'label')"
   ]
  },
  {
   "cell_type": "code",
   "execution_count": 44,
   "id": "e188d729-d843-472c-95a4-ae6e012bb2ed",
   "metadata": {},
   "outputs": [],
   "source": [
    "df_inh.to_csv('inhibitors_origin.csv',index=False)"
   ]
  },
  {
   "cell_type": "code",
   "execution_count": null,
   "id": "5869fbeb-a109-48ba-a956-c89559736305",
   "metadata": {},
   "outputs": [],
   "source": []
  },
  {
   "cell_type": "code",
   "execution_count": 45,
   "id": "712a186b-5b69-415d-baab-f15ef593b54b",
   "metadata": {},
   "outputs": [],
   "source": [
    "df_metra = pd.read_csv('substrates_metra.csv')\n",
    "df_multiclass = pd.read_csv('substrates_multiclass.csv')"
   ]
  },
  {
   "cell_type": "code",
   "execution_count": 46,
   "id": "6bd0cb3b-76ca-434b-b889-0db38d3b062c",
   "metadata": {},
   "outputs": [
    {
     "data": {
      "text/plain": [
       "(Index(['smiles', 'label'], dtype='object'),\n",
       " Index(['drug', 'smiles', 'label'], dtype='object'))"
      ]
     },
     "execution_count": 46,
     "metadata": {},
     "output_type": "execute_result"
    }
   ],
   "source": [
    "df_metra.columns,df_multiclass.columns"
   ]
  },
  {
   "cell_type": "code",
   "execution_count": 47,
   "id": "3b682745-28ae-4b48-a5fa-856b0c0f6384",
   "metadata": {},
   "outputs": [],
   "source": [
    "df = pd.concat([df_metra,df_multiclass],axis=0)[['smiles','label']]\n",
    "df['smiles'] = [ clean_and_standardize(s)[1] for s in df['smiles'] ]\n",
    "df = df.dropna()"
   ]
  },
  {
   "cell_type": "code",
   "execution_count": 48,
   "id": "f197440f-eb15-49d1-a98c-85bdc41dd7cb",
   "metadata": {},
   "outputs": [],
   "source": [
    "inh_dict = defaultdict(list)\n",
    "for i in range(len(df)):\n",
    "    data = df.iloc[i]\n",
    "    inh_dict[data['smiles']].append(data['label'])"
   ]
  },
  {
   "cell_type": "code",
   "execution_count": 49,
   "id": "f646731a-ba57-4957-9557-43bc025057f9",
   "metadata": {},
   "outputs": [],
   "source": [
    "inh = []\n",
    "for drug in inh_dict.keys():\n",
    "    try:\n",
    "        inh_list = inh_dict[drug]\n",
    "        inh_label = np.array(inh_list).all()\n",
    "        if (np.array(inh_list).all() != np.array(inh_list).any()):\n",
    "            inh_label = None\n",
    "    except:\n",
    "        inh_label = None\n",
    "    \n",
    "    inh.append(inh_label)\n",
    "    \n",
    "df_inh = pd.DataFrame({\n",
    "    'smiles':list(inh_dict.keys()),\n",
    "    'label':inh,\n",
    "})"
   ]
  },
  {
   "cell_type": "code",
   "execution_count": 50,
   "id": "6db83cc7-199f-4711-802e-68501e0e8753",
   "metadata": {},
   "outputs": [],
   "source": [
    "df_inh = df_inh.dropna()"
   ]
  },
  {
   "cell_type": "code",
   "execution_count": 51,
   "id": "0db10816-90cd-49f2-9c20-842906fa0b93",
   "metadata": {},
   "outputs": [
    {
     "data": {
      "text/plain": [
       "(1171, {True: 753, False: 418})"
      ]
     },
     "execution_count": 51,
     "metadata": {},
     "output_type": "execute_result"
    }
   ],
   "source": [
    "len(df_inh),count_place(df_inh,'label')"
   ]
  },
  {
   "cell_type": "code",
   "execution_count": 52,
   "id": "cd323c6d-c401-4200-a6f6-b3101fb5c652",
   "metadata": {},
   "outputs": [],
   "source": [
    "df_inh.to_csv('substrates_origin.csv',index=False)"
   ]
  },
  {
   "cell_type": "code",
   "execution_count": null,
   "id": "58a82b08-da19-4096-a457-9dad3f1299da",
   "metadata": {},
   "outputs": [],
   "source": []
  }
 ],
 "metadata": {
  "kernelspec": {
   "display_name": "MolMM",
   "language": "python",
   "name": "molmm"
  },
  "language_info": {
   "codemirror_mode": {
    "name": "ipython",
    "version": 3
   },
   "file_extension": ".py",
   "mimetype": "text/x-python",
   "name": "python",
   "nbconvert_exporter": "python",
   "pygments_lexer": "ipython3",
   "version": "3.10.13"
  }
 },
 "nbformat": 4,
 "nbformat_minor": 5
}
